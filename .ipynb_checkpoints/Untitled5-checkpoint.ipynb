{
 "cells": [
  {
   "cell_type": "code",
   "execution_count": 7,
   "metadata": {},
   "outputs": [],
   "source": [
    "a=[1,2,3]"
   ]
  },
  {
   "cell_type": "code",
   "execution_count": 8,
   "metadata": {},
   "outputs": [],
   "source": [
    "b=a[:]"
   ]
  },
  {
   "cell_type": "code",
   "execution_count": 9,
   "metadata": {},
   "outputs": [],
   "source": [
    "b[2]=0"
   ]
  },
  {
   "cell_type": "code",
   "execution_count": 10,
   "metadata": {},
   "outputs": [
    {
     "data": {
      "text/plain": [
       "[1, 2, 0]"
      ]
     },
     "execution_count": 10,
     "metadata": {},
     "output_type": "execute_result"
    }
   ],
   "source": [
    "b"
   ]
  },
  {
   "cell_type": "code",
   "execution_count": 11,
   "metadata": {},
   "outputs": [
    {
     "data": {
      "text/plain": [
       "[1, 2, 3]"
      ]
     },
     "execution_count": 11,
     "metadata": {},
     "output_type": "execute_result"
    }
   ],
   "source": [
    "a"
   ]
  },
  {
   "cell_type": "code",
   "execution_count": 18,
   "metadata": {},
   "outputs": [
    {
     "data": {
      "text/plain": [
       "[2, 1]"
      ]
     },
     "execution_count": 18,
     "metadata": {},
     "output_type": "execute_result"
    }
   ],
   "source": [
    "b[0:2][::-1]"
   ]
  },
  {
   "cell_type": "code",
   "execution_count": 21,
   "metadata": {},
   "outputs": [
    {
     "data": {
      "text/plain": [
       "1"
      ]
     },
     "execution_count": 21,
     "metadata": {},
     "output_type": "execute_result"
    }
   ],
   "source": [
    "b.pop(0)"
   ]
  },
  {
   "cell_type": "code",
   "execution_count": 26,
   "metadata": {},
   "outputs": [],
   "source": [
    "b.insert(0,1)"
   ]
  },
  {
   "cell_type": "code",
   "execution_count": 28,
   "metadata": {},
   "outputs": [
    {
     "data": {
      "text/plain": [
       "[1, 2]"
      ]
     },
     "execution_count": 28,
     "metadata": {},
     "output_type": "execute_result"
    }
   ],
   "source": [
    "b[:-1]"
   ]
  },
  {
   "cell_type": "code",
   "execution_count": 29,
   "metadata": {},
   "outputs": [],
   "source": [
    "b=[1,2,3,4,5,6]"
   ]
  },
  {
   "cell_type": "code",
   "execution_count": 30,
   "metadata": {},
   "outputs": [],
   "source": [
    "b=b[0:2][::-1]+b[2:4][::-1]+b[4:6][::-1]"
   ]
  },
  {
   "cell_type": "code",
   "execution_count": 31,
   "metadata": {},
   "outputs": [
    {
     "data": {
      "text/plain": [
       "[2, 1, 4, 3, 6, 5]"
      ]
     },
     "execution_count": 31,
     "metadata": {},
     "output_type": "execute_result"
    }
   ],
   "source": [
    "b"
   ]
  },
  {
   "cell_type": "code",
   "execution_count": 35,
   "metadata": {},
   "outputs": [],
   "source": [
    "from pop import CAN"
   ]
  },
  {
   "cell_type": "code",
   "execution_count": 2,
   "metadata": {},
   "outputs": [],
   "source": [
    "O=CAN.OmniWheel()"
   ]
  },
  {
   "cell_type": "code",
   "execution_count": 14,
   "metadata": {},
   "outputs": [],
   "source": [
    "O.backward()"
   ]
  },
  {
   "cell_type": "code",
   "execution_count": 15,
   "metadata": {},
   "outputs": [],
   "source": [
    "import numpy as np"
   ]
  },
  {
   "cell_type": "code",
   "execution_count": 20,
   "metadata": {},
   "outputs": [
    {
     "data": {
      "text/plain": [
       "array([[1, 2, 3],\n",
       "       [2, 4, 6],\n",
       "       [3, 6, 9]])"
      ]
     },
     "execution_count": 20,
     "metadata": {},
     "output_type": "execute_result"
    }
   ],
   "source": [
    "np.outer([1,2,3],[1,2,3])"
   ]
  },
  {
   "cell_type": "code",
   "execution_count": 21,
   "metadata": {},
   "outputs": [],
   "source": [
    "import tensorflow as tf"
   ]
  },
  {
   "cell_type": "code",
   "execution_count": 31,
   "metadata": {},
   "outputs": [
    {
     "data": {
      "text/plain": [
       "array([0.04148699, 0.08297398, 0.12446097, 0.24892194, 0.37338292,\n",
       "       0.8712268 , 0.12446097])"
      ]
     },
     "execution_count": 31,
     "metadata": {},
     "output_type": "execute_result"
    }
   ],
   "source": [
    "arr=np.array([1,2,3,6,9,21,3,])\n",
    "arr/np.linalg.norm(arr,2)"
   ]
  },
  {
   "cell_type": "code",
   "execution_count": 1,
   "metadata": {},
   "outputs": [],
   "source": [
    "from pop import Pilot"
   ]
  },
  {
   "cell_type": "code",
   "execution_count": 2,
   "metadata": {},
   "outputs": [],
   "source": [
    "bot=Pilot.SerBot()"
   ]
  },
  {
   "cell_type": "code",
   "execution_count": 3,
   "metadata": {},
   "outputs": [
    {
     "data": {
      "application/vnd.jupyter.widget-view+json": {
       "model_id": "34f7149f2a9c4880a07a1eb0cd41f0b8",
       "version_major": 2,
       "version_minor": 0
      },
      "text/plain": [
       "ToggleButton(value=False, button_style='danger', description='Fixed axis')"
      ]
     },
     "metadata": {},
     "output_type": "display_data"
    },
    {
     "data": {
      "text/html": [
       "<style>.joystick_focused{ cursor:grabbing !important;}    .joystick_background{user-select: none;        background: #fff3f3;        border: 1px solid #ffa29e;        border-radius: 50%;        height: 12em;        width: 12em;    margin:2.5em;}    .joystick_stick{cursor:grab; user-select: none;        background: #F74138;        border-radius: 50%;        box-shadow: 0.375em 0.375em 0 0 rgba(15, 28, 63, 0.125);        height: 5em;        width: 5em;        transform: translate(50%,50%);    }</style><div><div id=\"joystick_background_29FAB89C5D09A0\" class=\"joystick_background\">    <div id=\"joystick_stick_29FAB89C5D09A0\" class=\"joystick_stick\" style=\"position:absolute\" onmousedown=\"start_joystick_29FAB89C5D09A0(this); joystick_focus_29FAB89C5D09A0(this);\" ondrag=\"joystick_29FAB89C5D09A0(e)\" onmouseup=\"reset_joystick_29FAB89C5D09A0(this); joystick_disfocus_29FAB89C5D09A0(this);\"></div></div></div><script> X=0; Y=0; function joystick_focus_29FAB89C5D09A0(e){ e.classList.add(\"joystick_focused\");} function joystick_disfocus_29FAB89C5D09A0(e){ e.classList.remove(\"joystick_focused\");}    var port_29FAB89C5D09A0=8886;    var sock_29FAB89C5D09A0=new WebSocket(\"ws://\"+window.location.hostname+\":\"+port_29FAB89C5D09A0);    var sw_29FAB89C5D09A0=false;    var preX_29FAB89C5D09A0, preY_29FAB89C5D09A0, X_29FAB89C5D09A0, Y_29FAB89C5D09A0, nX_29FAB89C5D09A0, nY_29FAB89C5D09A0;    var back_29FAB89C5D09A0=document.getElementById(\"joystick_background_29FAB89C5D09A0\");    var stick_29FAB89C5D09A0=document.getElementById(\"joystick_stick_29FAB89C5D09A0\");    var back_width_29FAB89C5D09A0=back_29FAB89C5D09A0.offsetWidth;    var back_height_29FAB89C5D09A0=back_29FAB89C5D09A0.offsetHeight;    var stick_width_29FAB89C5D09A0=stick_29FAB89C5D09A0.offsetWidth;    var stick_height_29FAB89C5D09A0=stick_29FAB89C5D09A0.offsetHeight;    setInterval(()=>{try{sock_29FAB89C5D09A0.send(\"j,\" + sX_29FAB89C5D09A0 + \",\" + sY_29FAB89C5D09A0);}catch{console.log(\"Waiting to connect...\");}},100); function move_29FAB89C5D09A0(evt){        X=evt.clientX;        Y=evt.clientY;        if(sw_29FAB89C5D09A0){            nX_29FAB89C5D09A0+=X-preX_29FAB89C5D09A0;            nY_29FAB89C5D09A0+=Y-preY_29FAB89C5D09A0;            preX_29FAB89C5D09A0=X;            preY_29FAB89C5D09A0=Y;            if (nX_29FAB89C5D09A0>back_width_29FAB89C5D09A0-stick_width_29FAB89C5D09A0/2) nX_29FAB89C5D09A0=back_width_29FAB89C5D09A0-stick_width_29FAB89C5D09A0/2;            else if (nX_29FAB89C5D09A0<-stick_width_29FAB89C5D09A0/2) nX_29FAB89C5D09A0=-stick_width_29FAB89C5D09A0/2;            if (nY_29FAB89C5D09A0>back_height_29FAB89C5D09A0-stick_height_29FAB89C5D09A0/2) nY_29FAB89C5D09A0=back_height_29FAB89C5D09A0-stick_height_29FAB89C5D09A0/2;            else if (nY_29FAB89C5D09A0<-stick_height_29FAB89C5D09A0/2) nY_29FAB89C5D09A0=-stick_height_29FAB89C5D09A0/2;            sX_29FAB89C5D09A0=(nX_29FAB89C5D09A0+stick_width_29FAB89C5D09A0/2-back_width_29FAB89C5D09A0/2)/(back_width_29FAB89C5D09A0/2);            sY_29FAB89C5D09A0=-(nY_29FAB89C5D09A0+stick_height_29FAB89C5D09A0/2-back_height_29FAB89C5D09A0/2)/(back_height_29FAB89C5D09A0/2);                        /*sock_29FAB89C5D09A0.send(\"j,\"+sX_29FAB89C5D09A0+\",\"+sY_29FAB89C5D09A0);*/            stick_29FAB89C5D09A0.style.transform=\"translate(\"+nX_29FAB89C5D09A0+\"px,\"+nY_29FAB89C5D09A0+\"px)\";        }    };    function up_29FAB89C5D09A0(){joystick_disfocus_29FAB89C5D09A0(stick_29FAB89C5D09A0);        if(sw_29FAB89C5D09A0){            sw_29FAB89C5D09A0=false;            reset_joystick_29FAB89C5D09A0(stick_29FAB89C5D09A0);        }    };    function start_joystick_29FAB89C5D09A0(e){window.onmousemove=move_29FAB89C5D09A0; window.onmouseup=up_29FAB89C5D09A0;        preX_29FAB89C5D09A0=X;        preY_29FAB89C5D09A0=Y;        sw_29FAB89C5D09A0=true;    }    function joystick_29FAB89C5D09A0(e){        nX_29FAB89C5D09A0+=X-preX_29FAB89C5D09A0;        nY_29FAB89C5D09A0+=Y-preY_29FAB89C5D09A0;        preX_29FAB89C5D09A0=X;        preY_29FAB89C5D09A0=Y;        if (nX_29FAB89C5D09A0>back_width_29FAB89C5D09A0-stick_width_29FAB89C5D09A0/2) nX_29FAB89C5D09A0=back_width_29FAB89C5D09A0-stick_width_29FAB89C5D09A0/2;        else if (nX_29FAB89C5D09A0<-stick_width_29FAB89C5D09A0/2) nX_29FAB89C5D09A0=-stick_width_29FAB89C5D09A0/2;        if (nY_29FAB89C5D09A0>back_height_29FAB89C5D09A0-stick_height_29FAB89C5D09A0/2) nY_29FAB89C5D09A0=back_height_29FAB89C5D09A0-stick_height_29FAB89C5D09A0/2;        else if (nY_29FAB89C5D09A0<-stick_height_29FAB89C5D09A0/2) nY_29FAB89C5D09A0=-stick_height_29FAB89C5D09A0/2;                e.style.transform=\"translate(\"+nX_29FAB89C5D09A0+\"px,\"+nY_29FAB89C5D09A0+\"px)\";    }    function reset_joystick_29FAB89C5D09A0(e){        sw_29FAB89C5D09A0=false;        nX_29FAB89C5D09A0 = back_width_29FAB89C5D09A0/2 - stick_width_29FAB89C5D09A0/2;        nY_29FAB89C5D09A0 = back_height_29FAB89C5D09A0/2 - stick_height_29FAB89C5D09A0/2;        e.style.transform=\"translate(\"+nX_29FAB89C5D09A0+\"px,\"+nY_29FAB89C5D09A0+\"px)\"; sX_29FAB89C5D09A0=\"0\"; sY_29FAB89C5D09A0=\"0\"; sock_29FAB89C5D09A0.send(\"j,0,0\");    }    reset_joystick_29FAB89C5D09A0(stick_29FAB89C5D09A0); console.log(\"Loaded.\");</script>"
      ],
      "text/plain": [
       "<IPython.core.display.HTML object>"
      ]
     },
     "metadata": {},
     "output_type": "display_data"
    }
   ],
   "source": [
    "bot.joystick()"
   ]
  },
  {
   "cell_type": "code",
   "execution_count": 34,
   "metadata": {},
   "outputs": [
    {
     "data": {
      "text/plain": [
       "[0, 0, 0, 0, 0, 0]"
      ]
     },
     "execution_count": 34,
     "metadata": {},
     "output_type": "execute_result"
    }
   ],
   "source": [
    "bot.omniwheel._wheels"
   ]
  }
 ],
 "metadata": {
  "kernelspec": {
   "display_name": "Python 3",
   "language": "python",
   "name": "python3"
  },
  "language_info": {
   "codemirror_mode": {
    "name": "ipython",
    "version": 3
   },
   "file_extension": ".py",
   "mimetype": "text/x-python",
   "name": "python",
   "nbconvert_exporter": "python",
   "pygments_lexer": "ipython3",
   "version": "3.6.9"
  }
 },
 "nbformat": 4,
 "nbformat_minor": 4
}
