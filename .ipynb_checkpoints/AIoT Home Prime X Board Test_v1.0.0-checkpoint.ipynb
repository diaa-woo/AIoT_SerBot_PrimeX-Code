{
 "cells": [
  {
   "cell_type": "markdown",
   "metadata": {},
   "source": [
    "# 0. 기초 테스트\n",
    "----\n",
    "모든 테스트는 최소 <a style=\"color:#FF0000; font-size:1.5em;\">5분</a> 이상 진행해야 합니다.<br>\n",
    "<span style=\"color:blue\">Shift + Enter </span>를 누르면 차례대로 진행합니다.\n",
    "<br>아래 코드를 실행시키면 연결된 장치가 감지되는지 [O, X]로 출력합니다."
   ]
  },
  {
   "cell_type": "code",
   "execution_count": null,
   "metadata": {},
   "outputs": [],
   "source": [
    "import subprocess as sp\n",
    "import time\n",
    "\n",
    "from IPython.display import display, Javascript\n",
    "from ipywidgets import widgets\n",
    "\n",
    "# (SMBus, Address, Name)\n",
    "devs=(('8','0a','Audio'),\n",
    "      ('8','27','Text LCD'),\n",
    "      ('8','28','먼지 센서'),\n",
    "      ('8','5e','PWM 컨트롤러'),\n",
    "      ('8','77','온습도 센서'))\n",
    "\n",
    "print(\"- 감지된 장치 -\")\n",
    "det=True\n",
    "\n",
    "for line, dev, name in devs:\n",
    "    try:\n",
    "        num=str(int(dev,16))\n",
    "        ret=sp.check_output(['i2cdetect -y -r '+line+' '+num+' '+num+' | grep -oP \"UU|'+dev+'\"'], shell=True).decode('UTF-8')\n",
    "        if dev in ret or 'UU' in ret:\n",
    "            print(\"[O] \"+name)\n",
    "    except:\n",
    "        det=False\n",
    "        print(\"[X] \"+name)\n",
    "\n",
    "if not det: \n",
    "    print(\"\\n감지되지 않은 장치가 있습니다.\\n 확인 후 테스트를 진행해주세요.\") \n",
    "else:\n",
    "    #pass\n",
    "    from pop import Camera\n",
    "    \n",
    "    cam=Camera(300,300)\n",
    "        \n",
    "lab=[]"
   ]
  },
  {
   "cell_type": "markdown",
   "metadata": {},
   "source": [
    "----\n",
    "<br><br>\n",
    "# 1. LED 테스트\n",
    "--------\n",
    "아래 코드를 실행시키면 100회 동안 LED 테스트를 진행합니다.\n",
    "<br>\n",
    "<br>\n",
    "AIoT Home의 **LIGHT1**부터 **LIGHT4**까지 차례대로 켜졌다가 꺼집니다.\n",
    "<br>\n",
    "모든 LIGHT의 모든 LED가 정상적으로 on/off 되는지 확인합니다."
   ]
  },
  {
   "cell_type": "code",
   "execution_count": null,
   "metadata": {},
   "outputs": [],
   "source": [
    "from pop import Led\n",
    "\n",
    "leds = [Led(23), Led(24), Led(25), Led(27)]    \n",
    "\n",
    "for i in range(20):\n",
    "    for led in leds:\n",
    "        led.on()\n",
    "        time.sleep(0.1)\n",
    "    time.sleep(0.5)\n",
    "    \n",
    "    for led in leds[-1::-1]:\n",
    "        led.off()\n",
    "        time.sleep(0.1)"
   ]
  },
  {
   "cell_type": "markdown",
   "metadata": {},
   "source": [
    "----\n",
    "<br><br>\n",
    "# 2. PIR 테스트\n",
    "--------\n",
    "아래 코드를 실행시키면 30초 동안 PIR 테스트를 진행합니다.\n",
    "<br>\n",
    "<br>\n",
    "PIR에 인체의 움직임이 감지되면 \"Detect\"를, 감지되지 않으면 \"Not Detect\"를 출력합니다.\n",
    "<br>\n",
    "손 등의 신체의 움직임에 따라 결과가 잘 나타나는지 확인합니다."
   ]
  },
  {
   "cell_type": "code",
   "execution_count": null,
   "metadata": {},
   "outputs": [],
   "source": [
    "from pop import Pir\n",
    "\n",
    "pir = Pir(22)\n",
    "\n",
    "lab.append(widgets.Label(value=\"PIR : Not detect\"))\n",
    "\n",
    "display(lab[-1])\n",
    "\n",
    "dtime = time.time()\n",
    "while time.time() - dtime < 30:\n",
    "    if pir.read():\n",
    "        lab[-1].value = \"PIR : Detect\"\n",
    "        time.sleep(0.5)\n",
    "    else:\n",
    "        lab[-1].value = \"PIR : Not detect\"\n",
    "        time.sleep(0.1)"
   ]
  },
  {
   "cell_type": "markdown",
   "metadata": {},
   "source": [
    "----\n",
    "<br><br>\n",
    "# 3. Touch 센서 테스트\n",
    "--------\n",
    "아래 코드를 실행시키면 30초 동안 Touch 센서 테스트를 진행합니다.\n",
    "<br>\n",
    "<br>\n",
    "키패드의 버튼의 상태가 출력으로 나타납니다.\n",
    "<br>\n",
    "키패드의 모든 버튼 상태가 정상적으로 출력되는지 확인합니다."
   ]
  },
  {
   "cell_type": "code",
   "execution_count": null,
   "metadata": {},
   "outputs": [],
   "source": [
    "from pop import Touch\n",
    "\n",
    "r = [0] * 12\n",
    "string = [f'{r[0]} {r[1]} {r[2]}', f'{r[3]} {r[4]} {r[5]}', f'{r[6]} {r[7]} {r[8]}', f'{r[9]} {r[10]} {r[11]}']\n",
    "\n",
    "touch = Touch()\n",
    "for s in string:\n",
    "    lab.append(widgets.Label(value=s))\n",
    "\n",
    "for i in range(len(string)):\n",
    "    display(lab[-i-1])\n",
    "\n",
    "dtime = time.time()\n",
    "while time.time() - dtime < 30:\n",
    "    for i in range(12):\n",
    "        r[i] = touch.readChannel(i)\n",
    "        time.sleep(0.05)\n",
    "    string = [f'{r[0]} {r[1]} {r[2]}', f'{r[3]} {r[4]} {r[5]}', f'{r[6]} {r[7]} {r[8]}', f'{r[9]} {r[10]} {r[11]}']\n",
    "    \n",
    "    for i in range(len(string)):\n",
    "        lab[-i-1].value = string[i]"
   ]
  },
  {
   "cell_type": "markdown",
   "metadata": {},
   "source": [
    "----\n",
    "<br><br>\n",
    "# 4. 먼지 센서 테스트\n",
    "--------\n",
    "아래 코드를 실행시키면 30초 동안 먼지 센서 테스트를 진행합니다.\n",
    "<br>\n",
    "<br>\n",
    "대기 중 각 먼지들의 농도를 출력합니다.\n",
    "<br>\n",
    "GRIM 방식과 TSI 방식으로 나뉘며, 값이 완전히 같진 않더라도 추이는 비슷해야 합니다.\n",
    "<br>\n",
    "휴지 등을 이용해 먼지를 발생시키고 값의 변화를 확인합니다."
   ]
  },
  {
   "cell_type": "code",
   "execution_count": null,
   "metadata": {},
   "outputs": [],
   "source": [
    "from pop import Dust\n",
    "\n",
    "dust = Dust()\n",
    "\n",
    "lab.append(widgets.Label(value=\"PM 1.0 GRIM  : %u ㎍/㎥\"))\n",
    "lab.append(widgets.Label(value=\"PM 2.5 GRIM  : %u ㎍/㎥\"))\n",
    "lab.append(widgets.Label(value=\"PM 10  GRIM  : %u ㎍/㎥\"))\n",
    "lab.append(widgets.Label(value=\"PM 1.0 TSI  : %u ㎍/㎥\"))\n",
    "lab.append(widgets.Label(value=\"PM 2.5 TSI  : %u ㎍/㎥\"))\n",
    "lab.append(widgets.Label(value=\"PM 10  TSI  : %u ㎍/㎥\"))\n",
    "\n",
    "display(lab[-6])\n",
    "display(lab[-5])\n",
    "display(lab[-4])\n",
    "display(lab[-3])\n",
    "display(lab[-2])\n",
    "display(lab[-1])\n",
    "\n",
    "dtime = time.time()\n",
    "while time.time() - dtime < 30:\n",
    "    dust.read()\n",
    "    lab[-6].value = \"PM 1.0 GRIM  : {} ㎍/㎥\".format(dust.pm_1p0_grimm)\n",
    "    lab[-5].value = \"PM 2.5 GRIM  : {} ㎍/㎥\".format(dust.pm_2p5_grimm)\n",
    "    lab[-4].value = \"PM 10  GRIM  : {} ㎍/㎥\".format(dust.pm_10_grimm)\n",
    "    lab[-3].value = \"PM 1.0 TSI  : {} ㎍/㎥\".format(dust.pm_1p0_tsi)\n",
    "    lab[-2].value = \"PM 2.5 TSI  : {} ㎍/㎥\".format(dust.pm_2p5_tsi)\n",
    "    lab[-1].value = \"PM 10  TSI  : {} ㎍/㎥\".format(dust.pm_10_tsi)\n",
    "    time.sleep(0.5)"
   ]
  },
  {
   "cell_type": "markdown",
   "metadata": {},
   "source": [
    "----\n",
    "<br><br>\n",
    "# 5. 온습도 센서 테스트 \n",
    "--------\n",
    "아래 코드를 실행시키면 30초 동안 온습도 센서 테스트를 진행합니다.\n",
    "<br>\n",
    "<br>\n",
    "센서의 측정값이 출력으로 나타납니다.\n",
    "<br>\n",
    "측정하는 값은 <a style=\"font-size:1.3em; color:#ff0000;\">온도, 습도</a>입니다.\n",
    "<br>\n",
    "실행시킨뒤, 각 값에 맞는 변화를 주고 출력 값 또한 잘 변화하는지 확인합니다."
   ]
  },
  {
   "cell_type": "code",
   "execution_count": null,
   "metadata": {},
   "outputs": [],
   "source": [
    "from pop import TempHumi\n",
    "\n",
    "th = TempHumi()\n",
    "\n",
    "lab.append(widgets.Label(value=\"Temperature: 0 [C]\"))\n",
    "lab.append(widgets.Label(value=\"Humidity: 0 [%%]\"))\n",
    "\n",
    "display(lab[-2])\n",
    "display(lab[-1])\n",
    "\n",
    "dtime = time.time()\n",
    "while time.time() - dtime < 60:\n",
    "    lab[-2].value = \"Temperature: {:.3f} [C]\".format(th.getTemperature())\n",
    "    lab[-1].value = \"Humidity: {:.3f} [%%]\".format(th.getHumidity())\n",
    "    time.sleep(0.5)"
   ]
  },
  {
   "cell_type": "markdown",
   "metadata": {},
   "source": [
    "----\n",
    "<br><br>\n",
    "# 6. LED Bar 테스트\n",
    "--------\n",
    "아래 코드를 실행시키면 LED Bar 테스트를 진행합니다.\n",
    "<br>\n",
    "<br>\n",
    "코드는 모든 LED Bar가 켜졌다가 꺼질 때까지 동작합니다.\n",
    "<br>\n",
    "모든 LED가 정상적으로 on/off 되는지 확인합니다."
   ]
  },
  {
   "cell_type": "code",
   "execution_count": null,
   "metadata": {},
   "outputs": [],
   "source": [
    "from pop import ShiftRegister\n",
    "\n",
    "gpio = [16,5,6]\n",
    "ledbar = ShiftRegister(gpio)\n",
    "\n",
    "i = 0x1\n",
    "for _ in range(8):\n",
    "    ledbar.shiftout(i)\n",
    "    ledbar.shiftout(i)\n",
    "    i = i << 1 | 0x1\n",
    "    time.sleep(0.25)\n",
    "\n",
    "for _ in range(8):\n",
    "    i = i << 1 & 0xFE\n",
    "    ledbar.shiftout(i)\n",
    "    ledbar.shiftout(i)\n",
    "    time.sleep(0.25)"
   ]
  },
  {
   "cell_type": "markdown",
   "metadata": {},
   "source": [
    "----\n",
    "<br><br>\n",
    "# 7. Text LCD 테스트\n",
    "--------\n",
    "아래 코드를 실행시키면 Text LCD 테스트를 진행합니다.\n",
    "<br>\n",
    "<br>\n",
    "1. LCD에 **Hello**와 **AIoT Home**이라는 글자가 각 라인마다 출력됩니다.\n",
    "2. 그리고 화면이 <a style=\"color:#ff0000;\">오른쪽</a>으로 **2칸씩 1번**, <a style=\"color:#0000ff;\">왼쪽</a>으로 **1칸씩 2번** Shift됩니다.\n",
    "3. 이후 화면이 **clear**되고 커서가 <a style=\"color:#ff0000;\">오른쪽</a>으로 **1칸씩 2번**, <a style=\"color:#0000ff;\">왼쪽</a>으로 **2칸씩 1번** Shift됩니다.\n",
    "4. 마지막에는 커서가 사라집니다.\n",
    "<br>\n",
    "<br>\n",
    "위의 설명대로 Text LCD가 동작하는지 확인합니다."
   ]
  },
  {
   "cell_type": "code",
   "execution_count": null,
   "metadata": {},
   "outputs": [],
   "source": [
    "from pop import Textlcd\n",
    "import time \n",
    "\n",
    "lcd = Textlcd()\n",
    "\n",
    "lcd.print(\"Hello\")\n",
    "lcd.setCursor(0,1)\n",
    "lcd.print(\"AIoT Home\")\n",
    "\n",
    "lcd.displayShiftR()\n",
    "lcd.displayShiftR()\n",
    "time.sleep(1)\n",
    "lcd.displayShiftL()\n",
    "time.sleep(1)\n",
    "lcd.displayShiftL()\n",
    "time.sleep(1)\n",
    "\n",
    "lcd.clear()\n",
    "time.sleep(1)\n",
    "\n",
    "lcd.cursorShiftR()\n",
    "time.sleep(1)\n",
    "lcd.cursorShiftR()\n",
    "time.sleep(1)\n",
    "lcd.cursorShiftL()\n",
    "lcd.cursorShiftL()\n",
    "time.sleep(1)\n",
    "\n",
    "lcd.returnHome()\n",
    "time.sleep(1)\n",
    "\n",
    "lcd.cursorOff()"
   ]
  },
  {
   "cell_type": "markdown",
   "metadata": {},
   "source": [
    "----\n",
    "<br><br>\n",
    "# 8. Piezo Buzzer 테스트\n",
    "--------\n",
    "아래 코드를 실행시키면 Piezo Buzzer 테스트를 진행합니다.\n",
    "<br>\n",
    "<br>\n",
    "'나비야' 음악이 나오며 Piezo Buzzer가 정상적으로 작동하는지 확인할 수 있습니다."
   ]
  },
  {
   "cell_type": "code",
   "execution_count": null,
   "metadata": {},
   "outputs": [],
   "source": [
    "from pop import PiezoBuzzer\n",
    "\n",
    "p = PiezoBuzzer(12)\n",
    "\n",
    "butterfly_scale = [4,4,4, 4,4,4, 4,4,4,4, 4,4,4,  4,4,4,4, 4,4,4, 4,4,4,4, 4,4,4]\n",
    "butterfly_pitch = [8,5,5, 6,3,3, 1,3,5,6, 8,8,8,  8,5,5,5, 6,3,3, 1,5,8,8, 5,5,5]\n",
    "butterfly_duration = [8,8,4,   8,8,4, 8,8,8,8, 8,8,4,  8,8,8,8, 8,8,4, 8,8,8,8, 8,8,4]\n",
    "sheet_butterfly = [butterfly_scale, butterfly_pitch, butterfly_duration]\n",
    "\n",
    "p.play(sheet_butterfly)"
   ]
  },
  {
   "cell_type": "markdown",
   "metadata": {},
   "source": [
    "----\n",
    "<br><br>\n",
    "# 9. Gas 센서 테스트\n",
    "--------\n",
    "아래 코드를 실행시키면 30초 동안 Gas 센서 테스트를 진행합니다.\n",
    "<br>\n",
    "<br>\n",
    "Gas 센서의 값은 라이터의 연료 또는 사람의 날숨 등을 이용해 변화를 줄 수 있습니다.\n",
    "<br>\n",
    "Gas 센서의 값의 변화가 정상적으로 출력되는지 확인합니다."
   ]
  },
  {
   "cell_type": "code",
   "execution_count": null,
   "metadata": {},
   "outputs": [],
   "source": [
    "from pop import Gas\n",
    "\n",
    "gas = Gas(6)\n",
    "lab.append(widgets.Label(value=\"Gas : Not detect\"))\n",
    "\n",
    "display(lab[-1])\n",
    "\n",
    "dtime = time.time()\n",
    "while time.time() - dtime < 30:\n",
    "    lab[-1].value = \"Gas : {}\".format(gas.read())\n",
    "    time.sleep(0.25)"
   ]
  },
  {
   "cell_type": "markdown",
   "metadata": {},
   "source": [
    "----\n",
    "<br><br>\n",
    "# 10. Cds Sensor 테스트\n",
    "--------\n",
    "아래 코드를 실행시키면 30초 동안 Cds Sensor 테스트를 진행합니다.\n",
    "<br>\n",
    "<br>\n",
    "Cds에서 측정한 빛의 양을 출력으로 나타납니다.\n",
    "<br>\n",
    "Cds센서를 가리거나 빛을 비춰서 값이 변하는 지 확인합니다."
   ]
  },
  {
   "cell_type": "code",
   "execution_count": null,
   "metadata": {},
   "outputs": [],
   "source": [
    "from pop import Cds\n",
    "\n",
    "cds=Cds(7)\n",
    "lab.append(widgets.Label(value=\"Cds : 0\"))\n",
    "display(lab[-1])\n",
    "\n",
    "dtime = time.time()\n",
    "while time.time()-dtime<30:\n",
    "    lab[-1].value=\"Cds : \"+str(cds.readAverage())\n",
    "    time.sleep(0.1)"
   ]
  },
  {
   "cell_type": "markdown",
   "metadata": {},
   "source": [
    "----\n",
    "<br><br>\n",
    "# 11. Fan 테스트\n",
    "--------\n",
    "아래 코드를 실행시키면 30초 동안 Fan 테스트를 진행합니다.\n",
    "<br>\n",
    "<br>\n",
    "Fan이 2초 간격으로 on/off를 반복합니다.\n",
    "<br>\n",
    "Fan이 위의 설명대로 정상적인 동작을 수행하는지 확인합니다."
   ]
  },
  {
   "cell_type": "code",
   "execution_count": null,
   "metadata": {},
   "outputs": [],
   "source": [
    "from pop import Fan\n",
    "\n",
    "fan = Fan(17)\n",
    "\n",
    "dtime = time.time()\n",
    "while time.time()-dtime<30:\n",
    "    fan.on()\n",
    "    time.sleep(2)\n",
    "    fan.off()\n",
    "    time.sleep(2)"
   ]
  },
  {
   "cell_type": "markdown",
   "metadata": {},
   "source": [
    "----\n",
    "<br><br>\n",
    "# 12. Servo Motor & RGB LED 테스트\n",
    "--------\n",
    "아래 코드들을 실행시키면 각각 Servo Motor와 RGB LED 테스트를 진행합니다.\n",
    "<br>\n",
    "<br>\n",
    "1. **GAS BREAK** Servo Motor를 0° ~ 180°로 회전시킵니다.\n",
    "<br>\n",
    "2. **DOOR LOCK** BREAK Servo Motor를 0° ~ 180°로 회전시킵니다.\n",
    "<br>\n",
    "3. RGB LED의 **Red LED** 밝기를 0 ~ 255로 설정합니다.\n",
    "<br>\n",
    "4. RGB LED의 **Green LED** 밝기를 0 ~ 255로 설정합니다.\n",
    "<br>\n",
    "5. RGB LED의 **Blue LED** 밝기를 0 ~ 255로 설정합니다.\n",
    "<br>\n",
    "6. **모든 Servo Motor**와 **모든 LED**를 0° ~ 180°, 0 ~ 255로 제어합니다.\n",
    "\n",
    "Servo Motor가 위의 설명대로 정상적인 동작을 수행하는지 확인합니다."
   ]
  },
  {
   "cell_type": "code",
   "execution_count": null,
   "metadata": {},
   "outputs": [],
   "source": [
    "from pop import PwmController\n",
    "\n",
    "pwm = PwmController()\n",
    "\n",
    "pwm.init()\n",
    "pwm.setFreq(50)\n",
    "pwm.setDuty(0)\n",
    "\n",
    "for channel in [3, 4]:\n",
    "    pwm.setChannel(channel)\n",
    "    for i in range(2, 14):\n",
    "        pwm.setDuty(i)\n",
    "        time.sleep(0.5)\n",
    "\n",
    "for j in [0, 1, 2]:\n",
    "    pwm.setChannel(j)\n",
    "    for i in range(100):\n",
    "        pwm.setDuty(i)\n",
    "        time.sleep(0.01)\n",
    "    pwm.setDuty(0)\n",
    "\n",
    "pwm.setChannel(-1)\n",
    "for i in range(100):\n",
    "    pwm.setDuty(i)\n",
    "    time.sleep(0.5) if i < 14 else time.sleep(0.01)\n",
    "        \n",
    "pwm.setDuty(0)"
   ]
  },
  {
   "cell_type": "markdown",
   "metadata": {},
   "source": [
    "----\n",
    "<br><br>\n",
    "# 13. 오디오 테스트 \n",
    "--------\n",
    "아래 코드를 실행시키면 30초간 마이크 테스트를 진행합니다.\n",
    "<br>\n",
    "좌/우 마이크에 소리가 입력되면 [　　　|　　　] 모양으로 생긴 사운드바가 [-=====|=====-] 으로 바뀝니다.\n",
    "<br>\n",
    "<br>\n",
    "그 다음 코드를 실행시키면 3분 30초간 음원 파일이 재생됩니다.\n",
    "<br>\n",
    "좌/우 스피커 출력이 정상인지 확인합니다.\n",
    "\n"
   ]
  },
  {
   "cell_type": "code",
   "execution_count": null,
   "metadata": {},
   "outputs": [],
   "source": [
    "!timeout 10s rec test.mp3"
   ]
  },
  {
   "cell_type": "code",
   "execution_count": null,
   "metadata": {},
   "outputs": [],
   "source": [
    "!play test.mp3"
   ]
  },
  {
   "cell_type": "markdown",
   "metadata": {},
   "source": [
    "---\n",
    "아래 코드를 실행시키면 녹음된 파일과 음원 파일을 <span style=\"color:red\">삭제</span>합니다.\n",
    "<br><span style=\"color:red\">정보 유출</span> 및 <span style=\"color:red\">저작권 문제</span>가 발생할 수 있으므로 테스트 후 꼭 실행해주시기 바랍니다."
   ]
  },
  {
   "cell_type": "code",
   "execution_count": null,
   "metadata": {},
   "outputs": [],
   "source": [
    "!rm test.mp3"
   ]
  },
  {
   "cell_type": "markdown",
   "metadata": {},
   "source": [
    "----\n",
    "<br><br>\n",
    "# 14. 카메라 테스트 \n",
    "--------\n",
    "아래 코드를 실행시키면 카메라 영상이 출력됩니다.\n",
    "<br>카메라 영상이 잘 나오는지, 렌즈에 크랙은 없는지 확인합니다.\n",
    "\n"
   ]
  },
  {
   "cell_type": "code",
   "execution_count": null,
   "metadata": {},
   "outputs": [],
   "source": [
    "cam.show()"
   ]
  }
 ],
 "metadata": {
  "kernelspec": {
   "display_name": "Python 3",
   "language": "python",
   "name": "python3"
  },
  "language_info": {
   "codemirror_mode": {
    "name": "ipython",
    "version": 3
   },
   "file_extension": ".py",
   "mimetype": "text/x-python",
   "name": "python",
   "nbconvert_exporter": "python",
   "pygments_lexer": "ipython3",
   "version": "3.6.9"
  }
 },
 "nbformat": 4,
 "nbformat_minor": 4
}
