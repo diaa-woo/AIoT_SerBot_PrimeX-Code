{
 "cells": [
  {
   "cell_type": "code",
   "execution_count": null,
   "metadata": {},
   "outputs": [],
   "source": [
    "import tensorflow as tf\n",
    "import tensorflow_hub as hub\n",
    "import numpy as np\n",
    "import cv2\n",
    "import matplotlib.pyplot as plt\n",
    "%matplotlib inline\n",
    "\n",
    "gpus=tf.config.experimental.list_physical_devices('GPU') \n",
    "for gpu in gpus: \n",
    "    tf.config.experimental.set_memory_growth(gpu, True)"
   ]
  },
  {
   "cell_type": "code",
   "execution_count": null,
   "metadata": {},
   "outputs": [],
   "source": [
    "url='https://tfhub.dev/google/openimages_v4/ssd/mobilenet_v2/1'\n",
    "detector=hub.load(url).signatures['default']"
   ]
  },
  {
   "cell_type": "code",
   "execution_count": null,
   "metadata": {},
   "outputs": [],
   "source": [
    "file = tf.io.read_file('IMG.jpg')\n",
    "image = tf.io.decode_jpeg(file)\n",
    "image = np.expand_dims(image,0)\n",
    "image = tf.image.convert_image_dtype(image,tf.float32)\n",
    "result = detector(image)"
   ]
  },
  {
   "cell_type": "code",
   "execution_count": null,
   "metadata": {},
   "outputs": [],
   "source": [
    "print(result)"
   ]
  },
  {
   "cell_type": "code",
   "execution_count": null,
   "metadata": {},
   "outputs": [],
   "source": [
    "res_img=tf.io.decode_jpeg(tf.io.read_file('IMG.jpg'))\n",
    "\n",
    "width=1280\n",
    "height=672\n",
    "\n",
    "i=0\n",
    "while(result['detection_scores'][i]>=0.2) :\n",
    "    start=result['detection_boxes'][i][0:2][::-1]\n",
    "    end=result['detection_boxes'][i][2:4][::-1]\n",
    "    start*=(width,height)\n",
    "    end*=(width,height)\n",
    "\n",
    "    res_img=cv2.rectangle(tf.cast(res_img, tf.int32).numpy(), \n",
    "                          tuple(tf.cast(start, tf.int32).numpy()), \n",
    "                          tuple(tf.cast(end, tf.int32).numpy()), \n",
    "                          (255,0,0), 3)\n",
    "    i+=1\n",
    "    \n",
    "plt.imshow(res_img)"
   ]
  }
 ],
 "metadata": {
  "kernelspec": {
   "display_name": "Python 3",
   "language": "python",
   "name": "python3"
  },
  "language_info": {
   "codemirror_mode": {
    "name": "ipython",
    "version": 3
   },
   "file_extension": ".py",
   "mimetype": "text/x-python",
   "name": "python",
   "nbconvert_exporter": "python",
   "pygments_lexer": "ipython3",
   "version": "3.6.9"
  }
 },
 "nbformat": 4,
 "nbformat_minor": 4
}
