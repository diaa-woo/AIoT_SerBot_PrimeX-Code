{
 "cells": [
  {
   "cell_type": "markdown",
   "metadata": {},
   "source": [
    "# 그래프에 점 그리기"
   ]
  },
  {
   "cell_type": "code",
   "execution_count": null,
   "metadata": {},
   "outputs": [],
   "source": [
    "import matplotlib.pyplot as plt     \n",
    "\n",
    "plt.plot([1,2,3,4],'ro')                \n",
    "plt.xlabel('x-axis')               \n",
    "plt.ylabel('y-axis')               \n",
    "plt.show()     "
   ]
  },
  {
   "cell_type": "markdown",
   "metadata": {},
   "source": [
    "# 그래프에 실선 그리기 "
   ]
  },
  {
   "cell_type": "code",
   "execution_count": null,
   "metadata": {},
   "outputs": [],
   "source": [
    "import matplotlib.pyplot as plt     \n",
    "\n",
    "plt.plot([1,2,3,4])                \n",
    "plt.xlabel('x-axis')               \n",
    "plt.ylabel('y-axis')               \n",
    "plt.show()     "
   ]
  },
  {
   "cell_type": "markdown",
   "metadata": {},
   "source": [
    "# 그래프에 점선 그리기 "
   ]
  },
  {
   "cell_type": "code",
   "execution_count": null,
   "metadata": {},
   "outputs": [],
   "source": [
    "import matplotlib.pyplot as plt     \n",
    "\n",
    "plt.plot([1,2,3,4],'--')                \n",
    "plt.xlabel('x-axis')               \n",
    "plt.ylabel('y-axis')               \n",
    "plt.show()     "
   ]
  },
  {
   "cell_type": "markdown",
   "metadata": {},
   "source": [
    "# 그래프에 선위에 점 그리기 "
   ]
  },
  {
   "cell_type": "code",
   "execution_count": null,
   "metadata": {},
   "outputs": [],
   "source": [
    "import matplotlib.pyplot as plt     \n",
    "\n",
    "plt.plot([1,2,3,4],'s-')                \n",
    "plt.xlabel('x-axis')               \n",
    "plt.ylabel('y-axis')               \n",
    "plt.show()     "
   ]
  },
  {
   "cell_type": "markdown",
   "metadata": {},
   "source": [
    "# 그래프에 1개의 선과 점 그리기 "
   ]
  },
  {
   "cell_type": "code",
   "execution_count": null,
   "metadata": {},
   "outputs": [],
   "source": [
    "import matplotlib.pyplot as plt     \n",
    "\n",
    "plt.plot([1,2,3,4],'bs--',[0,3,5,8],'ro',)                \n",
    "plt.xlabel('x-axis')               \n",
    "plt.ylabel('y-axis')               \n",
    "plt.show()          "
   ]
  },
  {
   "cell_type": "markdown",
   "metadata": {},
   "source": [
    "# X, Y 데이터 별도 지정 "
   ]
  },
  {
   "cell_type": "code",
   "execution_count": null,
   "metadata": {},
   "outputs": [],
   "source": [
    "import matplotlib.pyplot as plt     \n",
    "import time \n",
    "\n",
    "plt.plot([1,2,3,4],[0.1,0.2,0.9,1],'bs--') # X, Y, 표시할 선의 모양                \n",
    "plt.xlabel('x-axis')               \n",
    "plt.ylabel('y-axis')\n",
    "#plt.show()      \n",
    "a = [0]\n",
    "b = [0]\n",
    "for i in range(100):\n",
    "    a.append(i)\n",
    "    b.append(i)\n",
    "    plt.plot([1,2,3,4],[0.1,0.2,0.9,1],'bs--',a,b,'r')\n",
    "    plt.pause(0.1)    \n",
    "    time.sleep(0.1)"
   ]
  },
  {
   "cell_type": "code",
   "execution_count": null,
   "metadata": {},
   "outputs": [],
   "source": [
    "%matplotlib widget"
   ]
  },
  {
   "cell_type": "code",
   "execution_count": null,
   "metadata": {},
   "outputs": [],
   "source": [
    "%matplotlib widget\n",
    "import matplotlib.pyplot as plt     \n",
    "import time \n",
    "from IPython.display import display, Javascript\n",
    "from ipywidgets import widgets\n",
    "a = [0]\n",
    "b = [0]\n",
    "line_x = [0]\n",
    "line_y = [0]\n",
    "lab = []\n",
    "fig = plt.figure()\n",
    "fig.canvas.resizable = False\n",
    "fig.canvas.capture_scroll = True\n",
    "#@widgets.interact(w=(0, 10, 1), amp=(0, 4, .1), phi=(0, 2*np.pi+0.01, 0.01))\n",
    "#def update_plot(w = 1.0 , amp = 1 , phi = 0):\n",
    "#    plt.plot(line_x,line_y,'bs--') \n",
    "#    plt.scatter(a,b)    \n",
    "#    plt.pause(0.1)   \n",
    "\n",
    "plt.xlabel('x-axis')               \n",
    "plt.ylabel('y-axis')\n",
    "\n",
    "for i in range(100):\n",
    "    a.append(i)\n",
    "    b.append(i)\n",
    "    line_x.append(i*2)\n",
    "    line_y.append(i+4)\n",
    "    #update_plot()\n",
    "    #plt.plot([1,2,3,4],[0.1,0.2,0.9,1],'bs--') \n",
    "    #plt.scatter(a,b)\n",
    "    lab.append(widgets.Image('a',plt.scatter(a,b)))\n",
    "    #plt.pause(0.1)    \n",
    "    display(lab[-1])\n",
    "    time.sleep(0.1)"
   ]
  },
  {
   "cell_type": "code",
   "execution_count": null,
   "metadata": {},
   "outputs": [],
   "source": []
  },
  {
   "cell_type": "code",
   "execution_count": 4,
   "metadata": {},
   "outputs": [
    {
     "data": {
      "application/vnd.jupyter.widget-view+json": {
       "model_id": "8109bb4cd4c44cd49cd88649ef706741",
       "version_major": 2,
       "version_minor": 0
      },
      "text/plain": [
       "HBox(children=(HBox(children=(IntSlider(value=0, description='idx', max=10, orientation='vertical'), Output(la…"
      ]
     },
     "metadata": {},
     "output_type": "display_data"
    }
   ],
   "source": [
    "from IPython.display import display, clear_output\n",
    "import ipywidgets as ipy\n",
    "import matplotlib.pyplot as plt\n",
    "import numpy as np\n",
    "# setup figure\n",
    "a = [0]\n",
    "b = [0]\n",
    "n = 10\n",
    "class SliderAndImage():\n",
    "    # show random mesh\n",
    "    def update(self, idx):\n",
    "        with self.out:\n",
    "            clear_output()\n",
    "            fig, ax = plt.subplots(figsize = (5,5))\n",
    "            h = ax.imshow(np.random.rand(n, n))\n",
    "            for i in range(100):\n",
    "                a.append(i)\n",
    "                b.append(i)\n",
    "            h.set_data(a,b)\n",
    "            fig.canvas.flush_events()\n",
    "            fig.canvas.draw()\n",
    "            \n",
    "\n",
    "            plt.show()\n",
    "            \n",
    "    def make_slider_and_image(self):\n",
    "        self.out = ipy.Output(layout=ipy.Layout(width='600px', height='600px'))\n",
    "        slider = ipy.IntSlider(min = 0, max = 10, orientation = 'vertical')\n",
    "        widget = ipy.interactive(self.update, idx = slider)\n",
    "        layout = ipy.Layout()\n",
    "        widgets = ipy.HBox(children=(slider, self.out), layout = layout)\n",
    "        return widgets\n",
    "children = []\n",
    "#for _ in range(3):\n",
    "widgets = SliderAndImage()\n",
    "children.append(widgets.make_slider_and_image())\n",
    "display(ipy.HBox(children))"
   ]
  },
  {
   "cell_type": "code",
   "execution_count": null,
   "metadata": {},
   "outputs": [],
   "source": []
  }
 ],
 "metadata": {
  "kernelspec": {
   "display_name": "Python 3",
   "language": "python",
   "name": "python3"
  },
  "language_info": {
   "codemirror_mode": {
    "name": "ipython",
    "version": 3
   },
   "file_extension": ".py",
   "mimetype": "text/x-python",
   "name": "python",
   "nbconvert_exporter": "python",
   "pygments_lexer": "ipython3",
   "version": "3.6.9"
  }
 },
 "nbformat": 4,
 "nbformat_minor": 4
}
