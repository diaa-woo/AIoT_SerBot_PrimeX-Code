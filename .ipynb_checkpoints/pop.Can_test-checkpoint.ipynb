{
 "cells": [
  {
   "cell_type": "markdown",
   "metadata": {},
   "source": [
    "## pop.CAN Test\n",
    "![12d](/home/soda/Project/python/notebook/pic.png)"
   ]
  },
  {
   "cell_type": "code",
   "execution_count": 1,
   "metadata": {},
   "outputs": [],
   "source": [
    "from pop.CAN import OmniWheel\n",
    "import time "
   ]
  },
  {
   "cell_type": "code",
   "execution_count": 2,
   "metadata": {},
   "outputs": [],
   "source": [
    "omni = OmniWheel()"
   ]
  },
  {
   "cell_type": "markdown",
   "metadata": {},
   "source": [
    "## 장애물 감지 거리 설정 -> 모터 동작중에만 감지 \n",
    "#### SetObstacleRange(ultra_distance, psd_distance)\n",
    "#### ultra_distance = 20 ~ 250cm \n",
    "#### psd_distance = 20 ~ 80cm \n",
    "\n",
    "##### 두개의 값이 동일한 경우 -> 알림은 없고 탐지만, 탐지시 모터 정지 \n",
    "##### 두개의 값이 동일하지 않은 경우 -> 최대값 ~ 최소값 사이에는 알림 메시지만 전달 모터는 동작 , CAN 메시지 ID 가 0x134 이며 dlc 값이 2 \n",
    "##### 두개의 값이 동일하지 않은 경우 -> 최소값 보다 작은 경우에 모터 정지 및 알림 메시지 , CAN 메시지 ID 가 0x133 이며 dlc 값이 8 , 몇번 센서가 감지되며 몇cm 에서 감지되었는지 확인 가능 "
   ]
  },
  {
   "cell_type": "code",
   "execution_count": 3,
   "metadata": {},
   "outputs": [],
   "source": [
    "omni.setObstacleRange(80,30)"
   ]
  },
  {
   "cell_type": "markdown",
   "metadata": {},
   "source": [
    "## Omni Wheel 모터 동작 \n",
    "#### forward([Motor1,Motor2,Motor3])  Motor1,Motor2,Motor3 는 모두 0~100 정수, 100 일 경우 100% 로 모터 동작 \n",
    "#### backward([Motor1,Motor2,Motor3])  Motor1,Motor2,Motor3 는 모두 0~100 정수, 100 일 경우 100% 로 모터 동작 \n",
    "#### stop() 모터 정지"
   ]
  },
  {
   "cell_type": "code",
   "execution_count": 6,
   "metadata": {},
   "outputs": [],
   "source": [
    "omni.forward([50,50,0])"
   ]
  },
  {
   "cell_type": "code",
   "execution_count": 5,
   "metadata": {},
   "outputs": [],
   "source": [
    "omni.backward([100,100,100])"
   ]
  },
  {
   "cell_type": "code",
   "execution_count": null,
   "metadata": {},
   "outputs": [],
   "source": [
    "omni.stop()"
   ]
  },
  {
   "cell_type": "markdown",
   "metadata": {},
   "source": [
    "## Omni Wheel 에 장착된 센서 및 CAN으로 수신되는 메시지 확인 \n",
    "#### 기본적으로 객체 생성시 전체 센서 데이터 수신 또는 allSensorEnable() 로 활성화 가능 \n",
    "#### ultraEnable(enable=[1,1,1,1,1,1]) 을 통해 초음파만 활성화 가능, 리스트 각 데이터는 초음파센서의 번호, 1은 활성화 0은 비활성화 \n",
    "#### psdEnable(enable=[1,1,1]) 을 통해 PSD만 활성화 가능, 리스트 각 데이터는 PSD센서의 번호, 1은 활성화 0은 비활성화 \n",
    "#### getEnable()을 통해 현재 센서 활성화 정보 획득 가능 , [UltraEnable, psdEnable] 형태로 반환 \n",
    "#### sensorDisable()을 통해 전체 센서 비활성화 "
   ]
  },
  {
   "cell_type": "markdown",
   "metadata": {},
   "source": [
    "## read(sensorType)\n",
    "#### sensorType 은 4가지 \n",
    "#### SENSOR_ALL 은 전체 센서 데이터 , ALARM은 제외 \n",
    "#### ULTRASONIC 은 초음파 데이터 \n",
    "#### PSD 는 PSD 데이터 \n",
    "#### ALARM 은 물체 감지 상태 "
   ]
  },
  {
   "cell_type": "code",
   "execution_count": null,
   "metadata": {},
   "outputs": [],
   "source": [
    "while True:\n",
    "    data = omni.read(omni.SENSOR_ALL)\n",
    "    print(data)\n",
    "    time.sleep(0.5)"
   ]
  },
  {
   "cell_type": "code",
   "execution_count": null,
   "metadata": {},
   "outputs": [],
   "source": [
    "while True:\n",
    "    data = omni.read(omni.ULTRASONIC)\n",
    "    print(data)\n",
    "    time.sleep(0.5)"
   ]
  },
  {
   "cell_type": "code",
   "execution_count": null,
   "metadata": {},
   "outputs": [],
   "source": [
    "while True:\n",
    "    data = omni.read(omni.PSD)\n",
    "    print(data)\n",
    "    time.sleep(0.5)"
   ]
  },
  {
   "cell_type": "code",
   "execution_count": null,
   "metadata": {},
   "outputs": [],
   "source": [
    "while True:\n",
    "    data = omni.read(omni.ALARM)\n",
    "    print(data)\n",
    "    time.sleep(0.5)"
   ]
  },
  {
   "cell_type": "markdown",
   "metadata": {},
   "source": [
    "## Callback 함수 등록 \n",
    "#### 물체 감지 등에 활용 가능한 Callback 함수 \n",
    "#### setCallback(func,param=None)"
   ]
  },
  {
   "cell_type": "code",
   "execution_count": null,
   "metadata": {},
   "outputs": [],
   "source": [
    "def alarm_callback_func():\n",
    "    while True:\n",
    "        data = omni.read(omni.ALARM)\n",
    "        if data[0] == 1:\n",
    "            print(\"There are obstacles nearby.\")\n",
    "        if data[0] == 2:\n",
    "            print(\"It stopped because of an obstacle.\")\n",
    "        #print(data)\n",
    "        time.sleep(0.5)"
   ]
  },
  {
   "cell_type": "code",
   "execution_count": null,
   "metadata": {},
   "outputs": [],
   "source": [
    "omni.setCallback(func=alarm_callback_func)"
   ]
  }
 ],
 "metadata": {
  "kernelspec": {
   "display_name": "Python 3",
   "language": "python",
   "name": "python3"
  },
  "language_info": {
   "codemirror_mode": {
    "name": "ipython",
    "version": 3
   },
   "file_extension": ".py",
   "mimetype": "text/x-python",
   "name": "python",
   "nbconvert_exporter": "python",
   "pygments_lexer": "ipython3",
   "version": "3.6.9"
  }
 },
 "nbformat": 4,
 "nbformat_minor": 4
}
