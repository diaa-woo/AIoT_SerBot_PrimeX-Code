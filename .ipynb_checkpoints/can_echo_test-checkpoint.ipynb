{
 "cells": [
  {
   "cell_type": "code",
   "execution_count": 1,
   "metadata": {},
   "outputs": [],
   "source": [
    "import can\n",
    "import time \n",
    "\n",
    "bus = can.interface.Bus(channel='can0',bustype='socketcan_native')\n",
    "bus.set_filters([{\"can_id\": 0x123, \"can_mask\": 0x7FF, \"extended\": False}])"
   ]
  },
  {
   "cell_type": "code",
   "execution_count": 2,
   "metadata": {},
   "outputs": [
    {
     "name": "stdout",
     "output_type": "stream",
     "text": [
      "Timestamp: 1595855703.007442        ID: 0123    S                DLC:  1    00                          Channel: can0\n",
      "Timestamp: 1595855703.108955        ID: 0123    S                DLC:  1    01                          Channel: can0\n",
      "Timestamp: 1595855703.209932        ID: 0123    S                DLC:  1    02                          Channel: can0\n",
      "Timestamp: 1595855703.311065        ID: 0123    S                DLC:  1    03                          Channel: can0\n",
      "Timestamp: 1595855703.411936        ID: 0123    S                DLC:  1    04                          Channel: can0\n",
      "Timestamp: 1595855703.513398        ID: 0123    S                DLC:  1    05                          Channel: can0\n",
      "Timestamp: 1595855703.614687        ID: 0123    S                DLC:  1    06                          Channel: can0\n",
      "Timestamp: 1595855703.715289        ID: 0123    S                DLC:  1    07                          Channel: can0\n",
      "Timestamp: 1595855703.816386        ID: 0123    S                DLC:  1    08                          Channel: can0\n",
      "Timestamp: 1595855703.918071        ID: 0123    S                DLC:  1    09                          Channel: can0\n",
      "Timestamp: 1595855704.018668        ID: 0123    S                DLC:  1    0a                          Channel: can0\n",
      "Timestamp: 1595855704.119204        ID: 0123    S                DLC:  1    0b                          Channel: can0\n",
      "Timestamp: 1595855704.220319        ID: 0123    S                DLC:  1    0c                          Channel: can0\n",
      "Timestamp: 1595855704.320901        ID: 0123    S                DLC:  1    0d                          Channel: can0\n",
      "Timestamp: 1595855704.422481        ID: 0123    S                DLC:  1    0e                          Channel: can0\n",
      "Timestamp: 1595855704.523064        ID: 0123    S                DLC:  1    0f                          Channel: can0\n",
      "Timestamp: 1595855704.624776        ID: 0123    S                DLC:  1    10                          Channel: can0\n",
      "Timestamp: 1595855704.725420        ID: 0123    S                DLC:  1    11                          Channel: can0\n",
      "Timestamp: 1595855704.827931        ID: 0123    S                DLC:  1    12                          Channel: can0\n",
      "Timestamp: 1595855704.928787        ID: 0123    S                DLC:  1    13                          Channel: can0\n",
      "Timestamp: 1595855705.029972        ID: 0123    S                DLC:  1    14                          Channel: can0\n",
      "Timestamp: 1595855705.130485        ID: 0123    S                DLC:  1    15                          Channel: can0\n",
      "Timestamp: 1595855705.231055        ID: 0123    S                DLC:  1    16                          Channel: can0\n",
      "Timestamp: 1595855705.331725        ID: 0123    S                DLC:  1    17                          Channel: can0\n",
      "Timestamp: 1595855705.432288        ID: 0123    S                DLC:  1    18                          Channel: can0\n",
      "Timestamp: 1595855705.533037        ID: 0123    S                DLC:  1    19                          Channel: can0\n",
      "Timestamp: 1595855705.633683        ID: 0123    S                DLC:  1    1a                          Channel: can0\n",
      "Timestamp: 1595855705.734249        ID: 0123    S                DLC:  1    1b                          Channel: can0\n",
      "Timestamp: 1595855705.836927        ID: 0123    S                DLC:  1    1c                          Channel: can0\n",
      "Timestamp: 1595855705.937560        ID: 0123    S                DLC:  1    1d                          Channel: can0\n"
     ]
    }
   ],
   "source": [
    "for i in range(30):\n",
    "    msg = can.Message(arbitration_id=0x123, is_extended_id=False, data=[i])\n",
    "    bus.send(msg)\n",
    "    time.sleep(0.1)\n",
    "    ret = bus.recv()\n",
    "    print(ret)"
   ]
  },
  {
   "cell_type": "code",
   "execution_count": 3,
   "metadata": {},
   "outputs": [],
   "source": [
    "bus.set_filters([{\"can_id\": 0x123, \"can_mask\": 0x000, \"extended\": False}])"
   ]
  },
  {
   "cell_type": "code",
   "execution_count": 4,
   "metadata": {},
   "outputs": [
    {
     "name": "stdout",
     "output_type": "stream",
     "text": [
      "Timestamp: 1595855708.246658        ID: 0106    S                DLC:  3    50 50 50                    'PPP'    Channel: can0\n",
      "Timestamp: 1595855708.246753        ID: 0135    S                DLC:  6    1d 21 fa fa 51 45           Channel: can0\n",
      "Timestamp: 1595855708.246831        ID: 0106    S                DLC:  3    50 50 50                    'PPP'    Channel: can0\n",
      "Timestamp: 1595855708.246926        ID: 0135    S                DLC:  6    1d 21 fa fa 51 45           Channel: can0\n",
      "Timestamp: 1595855708.247016        ID: 0136    S                DLC:  3    50 50 50                    'PPP'    Channel: can0\n",
      "Timestamp: 1595855708.247092        ID: 0136    S                DLC:  3    50 50 50                    'PPP'    Channel: can0\n",
      "Timestamp: 1595855708.386764        ID: 0105    S                DLC:  6    1d 21 fa fa 52 4d           Channel: can0\n",
      "Timestamp: 1595855708.386871        ID: 0105    S                DLC:  6    1d 21 fa fa 52 4d           Channel: can0\n",
      "Timestamp: 1595855708.583589        ID: 0123    S                DLC:  1    00                          Channel: can0\n",
      "Timestamp: 1595855708.684382        ID: 0123    S                DLC:  1    01                          Channel: can0\n",
      "Timestamp: 1595855708.716644        ID: 0106    S                DLC:  3    50 50 50                    'PPP'    Channel: can0\n",
      "Timestamp: 1595855708.716743        ID: 0135    S                DLC:  6    1d 21 fa fa 52 4d           Channel: can0\n",
      "Timestamp: 1595855708.716819        ID: 0106    S                DLC:  3    50 50 50                    'PPP'    Channel: can0\n",
      "Timestamp: 1595855708.716937        ID: 0135    S                DLC:  6    1d 21 fa fa 52 4d           Channel: can0\n",
      "Timestamp: 1595855708.716990        ID: 0136    S                DLC:  3    50 50 50                    'PPP'    Channel: can0\n",
      "Timestamp: 1595855708.717080        ID: 0136    S                DLC:  3    50 50 50                    'PPP'    Channel: can0\n",
      "Timestamp: 1595855708.785686        ID: 0123    S                DLC:  1    02                          Channel: can0\n",
      "Timestamp: 1595855708.856319        ID: 0105    S                DLC:  6    1d 21 fa fa 52 46           Channel: can0\n",
      "Timestamp: 1595855708.856419        ID: 0105    S                DLC:  6    1d 21 fa fa 52 46           Channel: can0\n",
      "Timestamp: 1595855708.887389        ID: 0123    S                DLC:  1    03                          Channel: can0\n",
      "Timestamp: 1595855708.988086        ID: 0123    S                DLC:  1    04                          Channel: can0\n",
      "Timestamp: 1595855709.088740        ID: 0123    S                DLC:  1    05                          Channel: can0\n",
      "Timestamp: 1595855709.185630        ID: 0106    S                DLC:  3    50 50 50                    'PPP'    Channel: can0\n",
      "Timestamp: 1595855709.185729        ID: 0135    S                DLC:  6    1d 21 fa fa 52 46           Channel: can0\n",
      "Timestamp: 1595855709.185805        ID: 0106    S                DLC:  3    50 50 50                    'PPP'    Channel: can0\n",
      "Timestamp: 1595855709.185903        ID: 0135    S                DLC:  6    1d 21 fa fa 52 46           Channel: can0\n",
      "Timestamp: 1595855709.185982        ID: 0136    S                DLC:  3    50 50 50                    'PPP'    Channel: can0\n",
      "Timestamp: 1595855709.186083        ID: 0136    S                DLC:  3    50 50 50                    'PPP'    Channel: can0\n",
      "Timestamp: 1595855709.189388        ID: 0123    S                DLC:  1    06                          Channel: can0\n",
      "Timestamp: 1595855709.290078        ID: 0123    S                DLC:  1    07                          Channel: can0\n"
     ]
    }
   ],
   "source": [
    "for i in range(30):\n",
    "    msg = can.Message(arbitration_id=0x123, is_extended_id=False, data=[i])\n",
    "    bus.send(msg)\n",
    "    time.sleep(0.1)\n",
    "    ret = bus.recv()\n",
    "    print(ret)"
   ]
  },
  {
   "cell_type": "code",
   "execution_count": null,
   "metadata": {},
   "outputs": [],
   "source": [
    "from pop.CAN import Can\n",
    "import time \n",
    "\n",
    "bus = Can()\n",
    "bus.setFilter(0x123,0x7FF)"
   ]
  },
  {
   "cell_type": "code",
   "execution_count": null,
   "metadata": {},
   "outputs": [],
   "source": [
    "for i in range(30):\n",
    "    bus.write(0x123,[i])\n",
    "    time.sleep(0.1)\n",
    "    ret = bus.read()\n",
    "    print(ret)"
   ]
  },
  {
   "cell_type": "code",
   "execution_count": null,
   "metadata": {},
   "outputs": [],
   "source": [
    "for i in range(30):\n",
    "    bus.write(0x123,[i])\n",
    "    time.sleep(0.1)\n",
    "    ret = bus.read()\n",
    "    print(\"ID : {} , Payload Length : {} , Data : {}\" .format(hex(ret.arbitration_id),ret.dlc,int(ret.data[0])))"
   ]
  }
 ],
 "metadata": {
  "kernelspec": {
   "display_name": "Python 3",
   "language": "python",
   "name": "python3"
  },
  "language_info": {
   "codemirror_mode": {
    "name": "ipython",
    "version": 3
   },
   "file_extension": ".py",
   "mimetype": "text/x-python",
   "name": "python",
   "nbconvert_exporter": "python",
   "pygments_lexer": "ipython3",
   "version": "3.6.9"
  }
 },
 "nbformat": 4,
 "nbformat_minor": 4
}
