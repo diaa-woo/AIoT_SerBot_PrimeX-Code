{
 "cells": [
  {
   "cell_type": "code",
   "execution_count": null,
   "metadata": {},
   "outputs": [],
   "source": [
    "import can\n",
    "import time \n",
    "\n",
    "bus = can.interface.Bus(channel='can0',bustype='socketcan_native')\n",
    "bus.set_filters([{\"can_id\": 0x130, \"can_mask\": 0x7F0, \"extended\": False}])"
   ]
  },
  {
   "cell_type": "code",
   "execution_count": null,
   "metadata": {},
   "outputs": [],
   "source": [
    "for i in range(30):\n",
    "    ret = bus.recv()\n",
    "    if ret.arbitration_id == 0x135:\n",
    "        print(ret.data)\n",
    "    else:\n",
    "        print(\"Other Message Recv\")\n",
    "    time.sleep(0.1)"
   ]
  },
  {
   "cell_type": "code",
   "execution_count": null,
   "metadata": {},
   "outputs": [],
   "source": [
    "ultra_data=[0,0,0,0,0,0]\n",
    "for i in range(30):\n",
    "    ret = bus.recv()\n",
    "    if ret.arbitration_id == 0x135:\n",
    "        for j in range(ret.dlc):\n",
    "            ultra_data[j] = int(ret.data[j])\n",
    "        print(data)\n",
    "    else:\n",
    "        print(\"Other Message Recv\")\n",
    "    time.sleep(0.1)"
   ]
  },
  {
   "cell_type": "code",
   "execution_count": null,
   "metadata": {},
   "outputs": [],
   "source": [
    "from pop.CAN import OmniWheel\n",
    "import time \n",
    "\n",
    "omni = OmniWheel()"
   ]
  },
  {
   "cell_type": "code",
   "execution_count": null,
   "metadata": {},
   "outputs": [],
   "source": [
    "for i in range(30):\n",
    "    data = omni.read()\n",
    "    print(data)\n",
    "    time.sleep(0.1)"
   ]
  },
  {
   "cell_type": "code",
   "execution_count": null,
   "metadata": {},
   "outputs": [],
   "source": [
    "for i in range(30):\n",
    "    data = omni.read(omni.ULTRASONIC)\n",
    "    print(data)\n",
    "    time.sleep(0.1)"
   ]
  },
  {
   "cell_type": "code",
   "execution_count": null,
   "metadata": {},
   "outputs": [],
   "source": [
    "for i in range(30):\n",
    "    data = omni.read(omni.PSD)\n",
    "    print(data)\n",
    "    time.sleep(0.1)"
   ]
  },
  {
   "cell_type": "code",
   "execution_count": null,
   "metadata": {},
   "outputs": [],
   "source": [
    "omni.forward([100,100,0])\n",
    "for i in range(30):\n",
    "    data = omni.read(omni.ALARM)\n",
    "    print(data)\n",
    "    time.sleep(0.1)"
   ]
  },
  {
   "cell_type": "code",
   "execution_count": null,
   "metadata": {},
   "outputs": [],
   "source": [
    "def alarm_callback_func():\n",
    "    while True:\n",
    "        data = omni.read(omni.ALARM)\n",
    "        if data[0] == 1:\n",
    "            print(\"There are obstacles nearby.\")\n",
    "        if data[0] == 2:\n",
    "            print(\"It stopped because of an obstacle.\")\n",
    "        time.sleep(0.5)"
   ]
  },
  {
   "cell_type": "code",
   "execution_count": null,
   "metadata": {},
   "outputs": [],
   "source": [
    "omni.setObstacleRange(80,30)\n",
    "omni.forward([50,50,0])\n",
    "omni.setCallback(func=alarm_callback_func)"
   ]
  },
  {
   "cell_type": "code",
   "execution_count": null,
   "metadata": {},
   "outputs": [],
   "source": []
  }
 ],
 "metadata": {
  "kernelspec": {
   "display_name": "Python 3",
   "language": "python",
   "name": "python3"
  },
  "language_info": {
   "codemirror_mode": {
    "name": "ipython",
    "version": 3
   },
   "file_extension": ".py",
   "mimetype": "text/x-python",
   "name": "python",
   "nbconvert_exporter": "python",
   "pygments_lexer": "ipython3",
   "version": "3.6.9"
  }
 },
 "nbformat": 4,
 "nbformat_minor": 4
}
