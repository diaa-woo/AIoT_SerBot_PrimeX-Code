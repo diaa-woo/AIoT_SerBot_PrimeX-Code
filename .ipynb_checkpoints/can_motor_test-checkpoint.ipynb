{
 "cells": [
  {
   "cell_type": "code",
   "execution_count": null,
   "metadata": {},
   "outputs": [],
   "source": [
    "import can\n",
    "import time \n",
    "    \n",
    "MOTOR_CONTROL = 0x101\n",
    "MOTOR_STOP = 0x102"
   ]
  },
  {
   "cell_type": "code",
   "execution_count": null,
   "metadata": {},
   "outputs": [],
   "source": [
    "bus = can.interface.Bus(channel='can0',bustype='socketcan_native')"
   ]
  },
  {
   "cell_type": "code",
   "execution_count": null,
   "metadata": {},
   "outputs": [],
   "source": [
    "print(\"All Motor Forward Speed Max\")\n",
    "msg = can.Message(arbitration_id=MOTOR_CONTROL, is_extended_id=False, data=[100,0,100,0,100,0])\n",
    "bus.send(msg)\n",
    "time.sleep(3)"
   ]
  },
  {
   "cell_type": "code",
   "execution_count": null,
   "metadata": {},
   "outputs": [],
   "source": [
    "print(\"All Motor Backward Speed Max\")\n",
    "msg = can.Message(arbitration_id=MOTOR_CONTROL, is_extended_id=False, data=[0,100,0,100,0,100])\n",
    "bus.send(msg)\n",
    "time.sleep(3)"
   ]
  },
  {
   "cell_type": "code",
   "execution_count": null,
   "metadata": {},
   "outputs": [],
   "source": [
    "print(\"Motor Stop\")\n",
    "msg = can.Message(arbitration_id=MOTOR_STOP, is_extended_id=False, data=[0])\n",
    "bus.send(msg)"
   ]
  },
  {
   "cell_type": "code",
   "execution_count": null,
   "metadata": {},
   "outputs": [],
   "source": [
    "from pop.CAN import OmniWheel\n",
    "import time \n",
    "\n",
    "omni = OmniWheel()"
   ]
  },
  {
   "cell_type": "code",
   "execution_count": null,
   "metadata": {},
   "outputs": [],
   "source": [
    "print(\"All Motor Forward Speed Max\")\n",
    "omni.forward([100,100,100])\n",
    "time.sleep(3)"
   ]
  },
  {
   "cell_type": "code",
   "execution_count": null,
   "metadata": {},
   "outputs": [],
   "source": [
    "print(\"All Motor Backward Speed Max\")\n",
    "omni.backward([100,100,100])\n",
    "time.sleep(3)"
   ]
  },
  {
   "cell_type": "code",
   "execution_count": null,
   "metadata": {},
   "outputs": [],
   "source": [
    "print(\"Motor Stop\")\n",
    "omni.stop()"
   ]
  },
  {
   "cell_type": "code",
   "execution_count": null,
   "metadata": {},
   "outputs": [],
   "source": []
  }
 ],
 "metadata": {
  "kernelspec": {
   "display_name": "Python 3",
   "language": "python",
   "name": "python3"
  },
  "language_info": {
   "codemirror_mode": {
    "name": "ipython",
    "version": 3
   },
   "file_extension": ".py",
   "mimetype": "text/x-python",
   "name": "python",
   "nbconvert_exporter": "python",
   "pygments_lexer": "ipython3",
   "version": "3.6.9"
  }
 },
 "nbformat": 4,
 "nbformat_minor": 4
}
