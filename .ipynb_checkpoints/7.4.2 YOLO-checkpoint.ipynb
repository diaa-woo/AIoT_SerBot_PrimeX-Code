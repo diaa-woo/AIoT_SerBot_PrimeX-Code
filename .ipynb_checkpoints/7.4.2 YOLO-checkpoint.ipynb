{
 "cells": [
  {
   "cell_type": "code",
   "execution_count": null,
   "metadata": {},
   "outputs": [],
   "source": [
    "import matplotlib.pyplot as plt\n",
    "%matplotlib inline  \n",
    "import tensorflow as tf\n",
    "from yolov3.yolov3 import Create_Yolov3\n",
    "from yolov3.utils import load_yolo_weights, detect_image\n",
    "\n",
    "input_size = 416\n",
    "Darknet_weights = \"yolov3.weights\"\n",
    "\n",
    "yolo = Create_Yolov3(input_size=input_size)\n",
    "load_yolo_weights(yolo, Darknet_weights)"
   ]
  },
  {
   "cell_type": "code",
   "execution_count": null,
   "metadata": {},
   "outputs": [],
   "source": [
    "image_path   = \"IMG.jpg\"\n",
    "\n",
    "image = detect_image(yolo, image_path, '', input_size=input_size, show=False, rectangle_colors=(255,0,0))\n",
    "image = cv2.cvtColor(image, cv2.COLOR_BGR2RGB)\n",
    "\n",
    "plt.figure(figsize=(30,15))\n",
    "plt.imshow(image)"
   ]
  }
 ],
 "metadata": {
  "kernelspec": {
   "display_name": "Python 3",
   "language": "python",
   "name": "python3"
  },
  "language_info": {
   "codemirror_mode": {
    "name": "ipython",
    "version": 3
   },
   "file_extension": ".py",
   "mimetype": "text/x-python",
   "name": "python",
   "nbconvert_exporter": "python",
   "pygments_lexer": "ipython3",
   "version": "3.6.9"
  }
 },
 "nbformat": 4,
 "nbformat_minor": 4
}
