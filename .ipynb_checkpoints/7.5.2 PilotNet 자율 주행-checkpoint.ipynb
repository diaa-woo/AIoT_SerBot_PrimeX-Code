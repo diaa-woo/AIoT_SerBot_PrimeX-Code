{
 "cells": [
  {
   "cell_type": "code",
   "execution_count": null,
   "metadata": {},
   "outputs": [],
   "source": [
    "import ipywidgets as widgets\n",
    "from IPython.display import display\n",
    "import cv2\n",
    "import numpy as np\n",
    "\n",
    "video=cv2.VideoCapture(1)\n",
    "\n",
    "video.set(3,640)\n",
    "video.set(4,360)\n",
    "\n",
    "frame=None\n",
    "\n",
    "X_Data=np.array([])\n",
    "Y_Data=np.array([])\n",
    "\n",
    "image_window=widgets.Image(\n",
    "    format='jpeg',\n",
    "    width=300,\n",
    "    height=300,\n",
    ")\n",
    "\n",
    "steer_text=widgets.Text(\n",
    "    placeholder='Steering Radius',\n",
    "    disabled=False\n",
    ")\n",
    "\n",
    "def set_frame():\n",
    "    global frame\n",
    "    frame=video.read()[1]\n",
    "    frame=cv2.resize(frame,(128,128))\n",
    "    img=bytes(cv2.imencode('.jpg', frame)[1])\n",
    "    image_window.value=img\n",
    "    \n",
    "    return frame\n",
    "\n",
    "def collect(data):\n",
    "    global result\n",
    "    if data.value != '':\n",
    "        global X_Data, Y_Data\n",
    "        \n",
    "        if len(X_Data)==0:\n",
    "            Y_Data=np.array(([[float(data.value)]]))\n",
    "            X_Data=np.array(([result]))\n",
    "        else:\n",
    "            Y_Data=np.vstack((Y_Data,[[float(data.value)]]))\n",
    "            X_Data=np.vstack((X_Data,[result]))\n",
    "    \n",
    "    result=set_frame()\n",
    "    steer_text.value=''\n",
    "\n",
    "\n",
    "steer_text.on_submit(collect)\n",
    "\n",
    "display(image_window)\n",
    "display(steer_text)\n",
    "\n",
    "result=set_frame()"
   ]
  },
  {
   "cell_type": "code",
   "execution_count": null,
   "metadata": {},
   "outputs": [],
   "source": [
    "name=\"Identifier\"\n",
    "np.save(name+\"_X.npy\",X_Data)\n",
    "np.save(name+\"_Y.npy\",Y_Data)"
   ]
  },
  {
   "cell_type": "code",
   "execution_count": null,
   "metadata": {},
   "outputs": [],
   "source": [
    "name=\"Identifier\"\n",
    "X_Data=np.load(name+\"_X.npy\")\n",
    "Y_Data=np.load(name+\"_Y.npy\")"
   ]
  },
  {
   "cell_type": "code",
   "execution_count": null,
   "metadata": {},
   "outputs": [],
   "source": [
    "model = Sequential()\n",
    "\n",
    "model.add(Input((128,128,3)))\n",
    "\n",
    "model.add(Conv2D(24,kernel_size=5,padding='valid', activation='relu', strides=(2,2)))\n",
    "model.add(Conv2D(36,kernel_size=5,padding='valid', activation='relu', strides=(2,2)))\n",
    "model.add(Conv2D(48,kernel_size=5,padding='valid', activation='relu', strides=(2,2)))\n",
    "model.add(Conv2D(64,kernel_size=3,padding='valid', activation='relu', strides=(1,1)))\n",
    "model.add(Conv2D(64,kernel_size=3,padding='valid', activation='relu', strides=(1,1)))\n",
    "model.add(Flatten())\n",
    "model.add(Dense(1164, activation='relu'))\n",
    "model.add(Dense(100, activation='relu'))\n",
    "model.add(Dense(50, activation='relu'))\n",
    "model.add(Dense(10, activation='relu'))\n",
    "model.add(Dense(1))\n",
    "\n",
    "model.compile(optimizer='ADAM', loss='MSE')"
   ]
  },
  {
   "cell_type": "code",
   "execution_count": null,
   "metadata": {},
   "outputs": [],
   "source": [
    "model.fit(X_Data, Y_Data, epochs=10, batch_size=100)"
   ]
  },
  {
   "cell_type": "code",
   "execution_count": null,
   "metadata": {},
   "outputs": [],
   "source": [
    "import rospy\n",
    "from sensor_msgs.msg import Joy\n",
    "from threading import Thread, Lock\n",
    "\n",
    "lock=Lock()\n",
    "\n",
    "class Controller:\n",
    "    steer=0\n",
    "    speed=0\n",
    "\n",
    "    def __init__(self):\n",
    "        self._js_signal=None\n",
    "        self.intc_thread=None\n",
    "        self.ros_thread=None\n",
    "        rospy.init_node('virtual_joy', anonymous = True)\n",
    "        self.rate = rospy.Rate(10) #10hz\n",
    "\n",
    "    def __ros_thread(self):\n",
    "        self.pub = rospy.Publisher('/joy',Joy,queue_size=10)\n",
    "\n",
    "        while not rospy.is_shutdown():\n",
    "            value = Joy()\n",
    "            value.axes=[0, self.speed, self.steer, -0.0, -0.0, 0.0]\n",
    "            value.buttons=[0, 0, 0, 0, 1, 0, 0, 0, 0, 0, 0, 0]\n",
    "            self.pub.publish(value)\n",
    "            self.rate.sleep()\n",
    "\n",
    "    def control(self, current_speed=None, current_steer=None):\n",
    "        if self.ros_thread is None:\n",
    "            self.ros_thread = Thread(target=self.__ros_thread, daemon=True)\n",
    "            self.ros_thread.start()\n",
    "\n",
    "        if current_speed is not None:\n",
    "            lock.acquire()\n",
    "            self.speed=current_speed\n",
    "            lock.release()\n",
    "\n",
    "        if current_steer is not None:\n",
    "            lock.acquire()\n",
    "            self.steer=current_steer\n",
    "            lock.release()"
   ]
  },
  {
   "cell_type": "code",
   "execution_count": null,
   "metadata": {},
   "outputs": [],
   "source": [
    "c=Controller()\n",
    "\n",
    "c.control(1,1)"
   ]
  },
  {
   "cell_type": "code",
   "execution_count": null,
   "metadata": {},
   "outputs": [],
   "source": [
    "while True:\n",
    "    frame=video.read()[1]\n",
    "    frame=cv2.resize(frame,(128,128))\n",
    "    pred=model.predict(np.array([frame]), use_multiprocessing=True)/90\n",
    "    \n",
    "    scale=0.3\n",
    "    speed=scale-((((abs(pred)*10)**2)/(10**2))*scale)\n",
    "    \n",
    "    if speed<0.12:\n",
    "        speed=0.12\n",
    "    \n",
    "    c.control(speed,-pred)"
   ]
  }
 ],
 "metadata": {
  "kernelspec": {
   "display_name": "Python 3",
   "language": "python",
   "name": "python3"
  },
  "language_info": {
   "codemirror_mode": {
    "name": "ipython",
    "version": 3
   },
   "file_extension": ".py",
   "mimetype": "text/x-python",
   "name": "python",
   "nbconvert_exporter": "python",
   "pygments_lexer": "ipython3",
   "version": "3.6.9"
  }
 },
 "nbformat": 4,
 "nbformat_minor": 4
}
