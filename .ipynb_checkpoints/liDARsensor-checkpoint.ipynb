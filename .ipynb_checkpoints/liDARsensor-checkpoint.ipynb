{
 "cells": [
  {
   "cell_type": "code",
   "execution_count": 4,
   "metadata": {},
   "outputs": [],
   "source": [
    "import time\n",
    "from pop import LiDAR\n",
    "\n",
    "lidar = LiDAR.Rplidar()\n",
    "lidar.connect()\n",
    "lidar.startMotor()\n",
    "\n",
    "'''\n",
    "time.sleep(3)\n",
    "\n",
    "lidar.stopMotor()\n",
    "'''"
   ]
  },
  {
   "cell_type": "code",
   "execution_count": null,
   "metadata": {},
   "outputs": [],
   "source": [
    "vectors = lidar.getVectors()  # 1회전 도안 스캔된 각도와 거리 데이터를 갖는 벡터 객체를 반환함.(각도, 거리, 데이터 신뢰도 순)\n",
    "\n",
    "for v in vectors:\n",
    "    print(v)"
   ]
  }
 ],
 "metadata": {
  "kernelspec": {
   "display_name": "Python 3",
   "language": "python",
   "name": "python3"
  },
  "language_info": {
   "codemirror_mode": {
    "name": "ipython",
    "version": 3
   },
   "file_extension": ".py",
   "mimetype": "text/x-python",
   "name": "python",
   "nbconvert_exporter": "python",
   "pygments_lexer": "ipython3",
   "version": "3.6.9"
  }
 },
 "nbformat": 4,
 "nbformat_minor": 4
}
