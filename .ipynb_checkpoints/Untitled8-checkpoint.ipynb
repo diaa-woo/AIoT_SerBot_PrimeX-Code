{
 "cells": [
  {
   "cell_type": "code",
   "execution_count": 24,
   "metadata": {},
   "outputs": [],
   "source": [
    "import can\n",
    "import time\n",
    "from threading import Thread\n",
    "#TEST\n",
    "class Can():\n",
    "    def __init__(self):\n",
    "        self._bus = can.interface.Bus(channel='can0', bustype='socketcan_native')\n",
    "    \n",
    "    def __del__(self):\n",
    "        self._bus = 0\n",
    "\n",
    "    def write(self, msg_id, buf, is_extended=False):\n",
    "        msg = can.Message(arbitration_id=msg_id,is_extended_id=is_extended,data=buf)\n",
    "        try:\n",
    "            self._bus.send(msg)\n",
    "        except can.CanError:\n",
    "            print(\"Can Interface Message does not Send\")\n",
    "\n",
    "    def read(self,timeOut=2):\n",
    "        recv_buf = self._bus.recv(timeout=timeOut)\n",
    "        if recv_buf:\n",
    "            return recv_buf\n",
    "\n",
    "    def setFilter(self, can_id, mask):\n",
    "        self._bus.set_filters([{\"can_id\": can_id, \"can_mask\": mask, \"extended\": False}])"
   ]
  },
  {
   "cell_type": "code",
   "execution_count": 2,
   "metadata": {},
   "outputs": [],
   "source": [
    "c=Can()"
   ]
  },
  {
   "cell_type": "code",
   "execution_count": 98,
   "metadata": {},
   "outputs": [],
   "source": [
    "c.write(0x100,None)"
   ]
  },
  {
   "cell_type": "code",
   "execution_count": 99,
   "metadata": {},
   "outputs": [
    {
     "data": {
      "text/plain": [
       "can.Message(timestamp=1602584855.547493, arbitration_id=0x130, extended_id=False, channel='can0', dlc=1, data=[0x1])"
      ]
     },
     "execution_count": 99,
     "metadata": {},
     "output_type": "execute_result"
    }
   ],
   "source": [
    "c.read()"
   ]
  },
  {
   "cell_type": "code",
   "execution_count": 93,
   "metadata": {},
   "outputs": [
    {
     "data": {
      "text/plain": [
       "1"
      ]
     },
     "execution_count": 93,
     "metadata": {},
     "output_type": "execute_result"
    }
   ],
   "source": [
    "a.data[0]"
   ]
  },
  {
   "cell_type": "code",
   "execution_count": null,
   "metadata": {},
   "outputs": [],
   "source": [
    "while True:\n",
    "    c.write(0x100, [0,0])\n",
    "    time.sleep(1)"
   ]
  },
  {
   "cell_type": "code",
   "execution_count": 22,
   "metadata": {},
   "outputs": [],
   "source": [
    "class Car:\n",
    "    __steer_range=18\n",
    "    \n",
    "    def __init__(self):\n",
    "        self.__can=Can()\n",
    "        \n",
    "    def wheel(self, value):\n",
    "        data=[0,0]\n",
    "        \n",
    "        if abs(value)>100:\n",
    "            value=100*abs(value)/value\n",
    "            \n",
    "        if value>0:\n",
    "            data[0]=value\n",
    "        elif value<0:\n",
    "            data[1]=abs(value)\n",
    "            \n",
    "        self.__can.write(0x101, data)\n",
    "        \n",
    "    def steer(self, value):\n",
    "        if abs(value)>1:\n",
    "            value=abs(value)/value\n",
    "            \n",
    "        data=[int(90-self.__steer_range*value)]\n",
    "        self.__can.write(0x102, data)\n",
    "        \n",
    "    def camPan(self, value):\n",
    "        if abs(value)>60:\n",
    "            value=60*abs(value)/value\n",
    "            \n",
    "        data=[int(90-value)]\n",
    "        \n",
    "        self.__can.write(0x103,data)\n",
    "        \n",
    "    def camTilt(self, value):\n",
    "        if value<0: value=0\n",
    "        elif value>90: value=90\n",
    "            \n",
    "        value*=0.744444\n",
    "        \n",
    "        data=[int(23+value)]\n",
    "        \n",
    "        self.__can.write(0x104,data)\n",
    "            \n",
    "    def ultraEnable(self,enable=[[1,1,1,1,1],[1,1,1,1,1]]):\n",
    "        data=[]\n",
    "        for n in range(2):\n",
    "            value=0\n",
    "            for i in range(5):\n",
    "                if enable[n][i] == 1:\n",
    "                    value|=(1<<i) \n",
    "                elif enable[n][i] == 0:\n",
    "                    value&=~(1<<i) \n",
    "                else:\n",
    "                    pass\n",
    "            data.append(value)\n",
    "\n",
    "        self.__can.write(0x105,data)"
   ]
  },
  {
   "cell_type": "code",
   "execution_count": 27,
   "metadata": {},
   "outputs": [],
   "source": [
    "a=Car()"
   ]
  },
  {
   "cell_type": "code",
   "execution_count": 32,
   "metadata": {},
   "outputs": [],
   "source": [
    "a.steer(-20/18)"
   ]
  },
  {
   "cell_type": "code",
   "execution_count": 31,
   "metadata": {},
   "outputs": [],
   "source": [
    "a.steer(0.5)"
   ]
  },
  {
   "cell_type": "code",
   "execution_count": null,
   "metadata": {},
   "outputs": [],
   "source": []
  },
  {
   "cell_type": "code",
   "execution_count": 1,
   "metadata": {},
   "outputs": [],
   "source": [
    "from pop import Pilot"
   ]
  },
  {
   "cell_type": "code",
   "execution_count": 2,
   "metadata": {},
   "outputs": [],
   "source": [
    "A=Pilot.AutoCar()"
   ]
  },
  {
   "cell_type": "code",
   "execution_count": 9,
   "metadata": {},
   "outputs": [
    {
     "name": "stdout",
     "output_type": "stream",
     "text": [
      "{'sep': 'j', 'x': 0.03529411764705882, 'y': 0.2235294117647059}\n",
      "0.03529411764705882\n",
      "{'sep': 'j', 'x': -0.011764705882352941, 'y': 0.23529411764705882}\n",
      "-0.011764705882352941\n",
      "{'sep': 'j', 'x': -0.21176470588235294, 'y': 0.32941176470588235}\n",
      "-0.21176470588235294\n",
      "{'sep': 'j', 'x': -0.3176470588235294, 'y': 0.4470588235294118}\n",
      "-0.3176470588235294\n",
      "{'sep': 'j', 'x': -0.38823529411764707, 'y': 0.5176470588235295}\n",
      "-0.38823529411764707\n",
      "{'sep': 'j', 'x': -0.4235294117647059, 'y': 0.5176470588235295}\n",
      "-0.4235294117647059\n",
      "{'sep': 'j', 'x': -0.38823529411764707, 'y': 0.5176470588235295}\n",
      "-0.38823529411764707\n",
      "{'sep': 'j', 'x': 0.0, 'y': 0.5176470588235295}\n",
      "0.0\n",
      "{'sep': 'j', 'x': 0.18823529411764706, 'y': 0.49411764705882355}\n",
      "0.18823529411764706\n",
      "{'sep': 'j', 'x': 0.35294117647058826, 'y': 0.4}\n",
      "0.35294117647058826\n",
      "{'sep': 'j', 'x': 0.38823529411764707, 'y': 0.21176470588235294}\n",
      "0.38823529411764707\n",
      "{'sep': 'j', 'x': 0.3411764705882353, 'y': 0.18823529411764706}\n",
      "0.3411764705882353\n",
      "{'sep': 'j', 'x': 0.16470588235294117, 'y': 0.18823529411764706}\n",
      "0.16470588235294117\n",
      "{'sep': 'j', 'x': -0.011764705882352941, 'y': 0.2}\n",
      "-0.011764705882352941\n",
      "{'sep': 'j', 'x': -0.047058823529411764, 'y': 0.2}\n",
      "-0.047058823529411764\n",
      "{'sep': 'j', 'x': -0.08235294117647059, 'y': 0.2}\n",
      "-0.08235294117647059\n",
      "{'sep': 'j', 'x': 0.0, 'y': 0.0}\n",
      "0.0\n",
      "{'sep': 'j', 'x': 0.0, 'y': 0.0}\n",
      "0.0\n",
      "{'sep': 'j', 'x': 0.0, 'y': 0.0}\n",
      "0.0\n",
      "{'sep': 'j', 'x': 0.0, 'y': 0.0}\n",
      "0.0\n",
      "{'sep': 'j', 'x': 0.0, 'y': 0.0}\n",
      "0.0\n",
      "{'sep': 'j', 'x': 0.0, 'y': 0.0}\n",
      "0.0\n"
     ]
    }
   ],
   "source": [
    "A.forward(10)"
   ]
  },
  {
   "cell_type": "code",
   "execution_count": null,
   "metadata": {},
   "outputs": [],
   "source": [
    "A.joystick()"
   ]
  },
  {
   "cell_type": "code",
   "execution_count": 21,
   "metadata": {},
   "outputs": [
    {
     "data": {
      "text/plain": [
       "-1.1111111111111112"
      ]
     },
     "execution_count": 21,
     "metadata": {},
     "output_type": "execute_result"
    }
   ],
   "source": [
    "-20/18"
   ]
  },
  {
   "cell_type": "code",
   "execution_count": 33,
   "metadata": {},
   "outputs": [],
   "source": [
    "A.wheel.turnLeft(10)"
   ]
  },
  {
   "cell_type": "code",
   "execution_count": 1,
   "metadata": {},
   "outputs": [],
   "source": [
    "import numpy as np"
   ]
  },
  {
   "cell_type": "code",
   "execution_count": 9,
   "metadata": {},
   "outputs": [],
   "source": [
    "x,y=np.ogrid[:5,:5]"
   ]
  },
  {
   "cell_type": "code",
   "execution_count": 7,
   "metadata": {},
   "outputs": [],
   "source": [
    "l=lambda tx, ty: np.sqrt((tx-x)**2+(ty-y)**2)"
   ]
  },
  {
   "cell_type": "code",
   "execution_count": 10,
   "metadata": {},
   "outputs": [
    {
     "data": {
      "text/plain": [
       "array([[4.24264069, 3.60555128, 3.16227766, 3.        , 3.16227766],\n",
       "       [3.60555128, 2.82842712, 2.23606798, 2.        , 2.23606798],\n",
       "       [3.16227766, 2.23606798, 1.41421356, 1.        , 1.41421356],\n",
       "       [3.        , 2.        , 1.        , 0.        , 1.        ],\n",
       "       [3.16227766, 2.23606798, 1.41421356, 1.        , 1.41421356]])"
      ]
     },
     "execution_count": 10,
     "metadata": {},
     "output_type": "execute_result"
    }
   ],
   "source": [
    "l(3,3)"
   ]
  },
  {
   "cell_type": "code",
   "execution_count": null,
   "metadata": {},
   "outputs": [],
   "source": []
  }
 ],
 "metadata": {
  "kernelspec": {
   "display_name": "Python 3",
   "language": "python",
   "name": "python3"
  },
  "language_info": {
   "codemirror_mode": {
    "name": "ipython",
    "version": 3
   },
   "file_extension": ".py",
   "mimetype": "text/x-python",
   "name": "python",
   "nbconvert_exporter": "python",
   "pygments_lexer": "ipython3",
   "version": "3.6.9"
  }
 },
 "nbformat": 4,
 "nbformat_minor": 4
}
