{
 "cells": [
  {
   "cell_type": "code",
   "execution_count": 3,
   "metadata": {},
   "outputs": [],
   "source": [
    "import time\n",
    "from pop import Pilot\n",
    "\n",
    "'''\n",
    "bot = Pilot.SerBot()\n",
    "bot.setSpeed(10)\n",
    "bot.move(0,10)\n",
    "time.sleep(1)\n",
    "bot.move(90,10)\n",
    "time.sleep(1)\n",
    "bot.move(180,10)\n",
    "time.sleep(1)\n",
    "bot.move(270,10)\n",
    "time.sleep(1)\n",
    "bot.stop()\n",
    "'''\n",
    "\n"
   ]
  },
  {
   "cell_type": "code",
   "execution_count": 13,
   "metadata": {},
   "outputs": [],
   "source": [
    "bot.setSpeed(20)\n",
    "\n",
    "bot.forward()\n",
    "bot.steering = 0.5\n",
    "\n",
    "time.sleep(5)\n",
    "\n",
    "bot.backward()\n",
    "bot.steering = 0.5\n",
    "\n",
    "time.sleep(5)\n",
    "\n",
    "bot.stop()"
   ]
  },
  {
   "cell_type": "code",
   "execution_count": 5,
   "metadata": {},
   "outputs": [
    {
     "data": {
      "application/vnd.jupyter.widget-view+json": {
       "model_id": "b3c79cc0a24e4838bc680c925b3e1b25",
       "version_major": 2,
       "version_minor": 0
      },
      "text/plain": [
       "ToggleButton(value=False, button_style='danger', description='Fixed axis')"
      ]
     },
     "metadata": {},
     "output_type": "display_data"
    },
    {
     "data": {
      "text/html": [
       "<style>.joystick_focused{ cursor:grabbing !important;}    .joystick_background{user-select: none;        background: #fff3f3;        border: 1px solid #ffa29e;        border-radius: 50%;        height: 12em;        width: 12em;    margin:2.5em;}    .joystick_stick{cursor:grab; user-select: none;        background: #F74138;        border-radius: 50%;        box-shadow: 0.375em 0.375em 0 0 rgba(15, 28, 63, 0.125);        height: 5em;        width: 5em;        transform: translate(50%,50%);    }</style><div><div id=\"joystick_background_2D503A7E8E271E\" class=\"joystick_background\">    <div id=\"joystick_stick_2D503A7E8E271E\" class=\"joystick_stick\" style=\"position:absolute\" onmousedown=\"start_joystick_2D503A7E8E271E(this); joystick_focus_2D503A7E8E271E(this);\" ondrag=\"joystick_2D503A7E8E271E(e)\" onmouseup=\"reset_joystick_2D503A7E8E271E(this); joystick_disfocus_2D503A7E8E271E(this);\"></div></div></div><script> X=0; Y=0; function joystick_focus_2D503A7E8E271E(e){ e.classList.add(\"joystick_focused\");} function joystick_disfocus_2D503A7E8E271E(e){ e.classList.remove(\"joystick_focused\");}    var port_2D503A7E8E271E=8885;    var sock_2D503A7E8E271E=new WebSocket(\"ws://\"+window.location.hostname+\":\"+port_2D503A7E8E271E);    var sw_2D503A7E8E271E=false;    var preX_2D503A7E8E271E, preY_2D503A7E8E271E, X_2D503A7E8E271E, Y_2D503A7E8E271E, nX_2D503A7E8E271E, nY_2D503A7E8E271E;    var back_2D503A7E8E271E=document.getElementById(\"joystick_background_2D503A7E8E271E\");    var stick_2D503A7E8E271E=document.getElementById(\"joystick_stick_2D503A7E8E271E\");    var back_width_2D503A7E8E271E=back_2D503A7E8E271E.offsetWidth;    var back_height_2D503A7E8E271E=back_2D503A7E8E271E.offsetHeight;    var stick_width_2D503A7E8E271E=stick_2D503A7E8E271E.offsetWidth;    var stick_height_2D503A7E8E271E=stick_2D503A7E8E271E.offsetHeight;  intlog_2D503A7E8E271E=Date.now();  setInterval(()=>{try{if (parseFloat(sX_2D503A7E8E271E)==0 && parseFloat(sY_2D503A7E8E271E)==0) {if (Date.now()-intlog_2D503A7E8E271E<500) sock_2D503A7E8E271E.send(\"j,\" + sX_2D503A7E8E271E + \",\" + sY_2D503A7E8E271E);}else{ sock_2D503A7E8E271E.send(\"j,\" + sX_2D503A7E8E271E + \",\" + sY_2D503A7E8E271E); intlog_2D503A7E8E271E=Date.now();}}catch{console.log(\"Waiting to connect...\");}},50); function move_2D503A7E8E271E(evt){        X=evt.clientX;        Y=evt.clientY;        if(sw_2D503A7E8E271E){            nX_2D503A7E8E271E+=X-preX_2D503A7E8E271E;            nY_2D503A7E8E271E+=Y-preY_2D503A7E8E271E;            preX_2D503A7E8E271E=X;            preY_2D503A7E8E271E=Y;            if (nX_2D503A7E8E271E>back_width_2D503A7E8E271E-stick_width_2D503A7E8E271E/2) nX_2D503A7E8E271E=back_width_2D503A7E8E271E-stick_width_2D503A7E8E271E/2;            else if (nX_2D503A7E8E271E<-stick_width_2D503A7E8E271E/2) nX_2D503A7E8E271E=-stick_width_2D503A7E8E271E/2;            if (nY_2D503A7E8E271E>back_height_2D503A7E8E271E-stick_height_2D503A7E8E271E/2) nY_2D503A7E8E271E=back_height_2D503A7E8E271E-stick_height_2D503A7E8E271E/2;            else if (nY_2D503A7E8E271E<-stick_height_2D503A7E8E271E/2) nY_2D503A7E8E271E=-stick_height_2D503A7E8E271E/2;            sX_2D503A7E8E271E=(nX_2D503A7E8E271E+stick_width_2D503A7E8E271E/2-back_width_2D503A7E8E271E/2)/(back_width_2D503A7E8E271E/2);            sY_2D503A7E8E271E=-(nY_2D503A7E8E271E+stick_height_2D503A7E8E271E/2-back_height_2D503A7E8E271E/2)/(back_height_2D503A7E8E271E/2);                        /*sock_2D503A7E8E271E.send(\"j,\"+sX_2D503A7E8E271E+\",\"+sY_2D503A7E8E271E);*/            stick_2D503A7E8E271E.style.transform=\"translate(\"+nX_2D503A7E8E271E+\"px,\"+nY_2D503A7E8E271E+\"px)\";        }    };    function up_2D503A7E8E271E(){joystick_disfocus_2D503A7E8E271E(stick_2D503A7E8E271E);        if(sw_2D503A7E8E271E){            sw_2D503A7E8E271E=false;            reset_joystick_2D503A7E8E271E(stick_2D503A7E8E271E);        }    };    function start_joystick_2D503A7E8E271E(e){window.onmousemove=move_2D503A7E8E271E; window.onmouseup=up_2D503A7E8E271E;        preX_2D503A7E8E271E=X;        preY_2D503A7E8E271E=Y;        sw_2D503A7E8E271E=true;    }    function joystick_2D503A7E8E271E(e){        nX_2D503A7E8E271E+=X-preX_2D503A7E8E271E;        nY_2D503A7E8E271E+=Y-preY_2D503A7E8E271E;        preX_2D503A7E8E271E=X;        preY_2D503A7E8E271E=Y;        if (nX_2D503A7E8E271E>back_width_2D503A7E8E271E-stick_width_2D503A7E8E271E/2) nX_2D503A7E8E271E=back_width_2D503A7E8E271E-stick_width_2D503A7E8E271E/2;        else if (nX_2D503A7E8E271E<-stick_width_2D503A7E8E271E/2) nX_2D503A7E8E271E=-stick_width_2D503A7E8E271E/2;        if (nY_2D503A7E8E271E>back_height_2D503A7E8E271E-stick_height_2D503A7E8E271E/2) nY_2D503A7E8E271E=back_height_2D503A7E8E271E-stick_height_2D503A7E8E271E/2;        else if (nY_2D503A7E8E271E<-stick_height_2D503A7E8E271E/2) nY_2D503A7E8E271E=-stick_height_2D503A7E8E271E/2;                e.style.transform=\"translate(\"+nX_2D503A7E8E271E+\"px,\"+nY_2D503A7E8E271E+\"px)\";    }    function reset_joystick_2D503A7E8E271E(e){        sw_2D503A7E8E271E=false;        nX_2D503A7E8E271E = back_width_2D503A7E8E271E/2 - stick_width_2D503A7E8E271E/2;        nY_2D503A7E8E271E = back_height_2D503A7E8E271E/2 - stick_height_2D503A7E8E271E/2;        e.style.transform=\"translate(\"+nX_2D503A7E8E271E+\"px,\"+nY_2D503A7E8E271E+\"px)\"; sX_2D503A7E8E271E=\"0\"; sY_2D503A7E8E271E=\"0\"; sock_2D503A7E8E271E.send(\"j,0,0\");    }    reset_joystick_2D503A7E8E271E(stick_2D503A7E8E271E); console.log(\"Loaded.\");</script>"
      ],
      "text/plain": [
       "<IPython.core.display.HTML object>"
      ]
     },
     "metadata": {},
     "output_type": "display_data"
    }
   ],
   "source": [
    "bot.joystick()"
   ]
  },
  {
   "cell_type": "code",
   "execution_count": 17,
   "metadata": {},
   "outputs": [
    {
     "name": "stdout",
     "output_type": "stream",
     "text": [
      "<bound method axis6.getGyro of <pop.Pilot.SerBot object at 0x7fa00ca0b8>>\n",
      "14600\n"
     ]
    }
   ],
   "source": [
    "value = bot.getGyro\n",
    "print(value)\n",
    "\n",
    "time.sleep(1)\n",
    "\n",
    "value = bot.getAccel('z')\n",
    "print(value)"
   ]
  }
 ],
 "metadata": {
  "kernelspec": {
   "display_name": "Python 3",
   "language": "python",
   "name": "python3"
  },
  "language_info": {
   "codemirror_mode": {
    "name": "ipython",
    "version": 3
   },
   "file_extension": ".py",
   "mimetype": "text/x-python",
   "name": "python",
   "nbconvert_exporter": "python",
   "pygments_lexer": "ipython3",
   "version": "3.6.9"
  }
 },
 "nbformat": 4,
 "nbformat_minor": 4
}
