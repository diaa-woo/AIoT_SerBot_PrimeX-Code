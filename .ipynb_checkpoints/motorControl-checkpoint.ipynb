{
 "cells": [
  {
   "cell_type": "code",
   "execution_count": 2,
   "metadata": {},
   "outputs": [
    {
     "name": "stdout",
     "output_type": "stream",
     "text": [
      "[Errno 13] Permission denied: '/home/soda/Project/python/notebook/ws.log'\n"
     ]
    },
    {
     "data": {
      "text/plain": [
       "'\\nbot = Pilot.SerBot()\\nbot.setSpeed(10)\\nbot.move(0,10)\\ntime.sleep(1)\\nbot.move(90,10)\\ntime.sleep(1)\\nbot.move(180,10)\\ntime.sleep(1)\\nbot.move(270,10)\\ntime.sleep(1)\\nbot.stop()\\n'"
      ]
     },
     "execution_count": 2,
     "metadata": {},
     "output_type": "execute_result"
    }
   ],
   "source": [
    "import time\n",
    "from pop import Pilot\n",
    "\n",
    "'''\n",
    "bot = Pilot.SerBot()\n",
    "bot.setSpeed(10)\n",
    "bot.move(0,10)\n",
    "time.sleep(1)\n",
    "bot.move(90,10)\n",
    "time.sleep(1)\n",
    "bot.move(180,10)\n",
    "time.sleep(1)\n",
    "bot.move(270,10)\n",
    "time.sleep(1)\n",
    "bot.stop()\n",
    "'''\n",
    "\n"
   ]
  },
  {
   "cell_type": "code",
   "execution_count": 13,
   "metadata": {},
   "outputs": [],
   "source": [
    "bot.setSpeed(20)\n",
    "\n",
    "bot.forward()\n",
    "bot.steering = 0.5\n",
    "\n",
    "time.sleep(5)\n",
    "\n",
    "bot.backward()\n",
    "bot.steering = 0.5\n",
    "\n",
    "time.sleep(5)\n",
    "\n",
    "bot.stop()"
   ]
  },
  {
   "cell_type": "code",
   "execution_count": 1,
   "metadata": {},
   "outputs": [
    {
     "ename": "NameError",
     "evalue": "name 'bot' is not defined",
     "output_type": "error",
     "traceback": [
      "\u001b[0;31m---------------------------------------------------------------------------\u001b[0m",
      "\u001b[0;31mNameError\u001b[0m                                 Traceback (most recent call last)",
      "\u001b[0;32m<ipython-input-1-bee8921073ed>\u001b[0m in \u001b[0;36m<module>\u001b[0;34m\u001b[0m\n\u001b[0;32m----> 1\u001b[0;31m \u001b[0mbot\u001b[0m\u001b[0;34m.\u001b[0m\u001b[0mjoystick\u001b[0m\u001b[0;34m(\u001b[0m\u001b[0;34m)\u001b[0m\u001b[0;34m\u001b[0m\u001b[0;34m\u001b[0m\u001b[0m\n\u001b[0m",
      "\u001b[0;31mNameError\u001b[0m: name 'bot' is not defined"
     ]
    }
   ],
   "source": [
    "bot.joystick()"
   ]
  },
  {
   "cell_type": "code",
   "execution_count": 21,
   "metadata": {},
   "outputs": [
    {
     "name": "stdout",
     "output_type": "stream",
     "text": [
      "{'x': -503, 'y': -99, 'z': -121}\n",
      "-95\n"
     ]
    }
   ],
   "source": [
    "value = bot.getGyro()\n",
    "print(value)\n",
    "\n",
    "time.sleep(1)\n",
    "\n",
    "value = bot.getGyro('z')\n",
    "print(value)"
   ]
  },
  {
   "cell_type": "code",
   "execution_count": 22,
   "metadata": {},
   "outputs": [
    {
     "name": "stdout",
     "output_type": "stream",
     "text": [
      "{'x': 396, 'y': -236, 'z': 14276}\n",
      "14964\n"
     ]
    }
   ],
   "source": [
    "value = bot.getAccel()\n",
    "print(value)\n",
    "\n",
    "time.sleep(1)\n",
    "\n",
    "value = bot.getAccel('z')\n",
    "print(value)"
   ]
  }
 ],
 "metadata": {
  "kernelspec": {
   "display_name": "Python 3",
   "language": "python",
   "name": "python3"
  },
  "language_info": {
   "codemirror_mode": {
    "name": "ipython",
    "version": 3
   },
   "file_extension": ".py",
   "mimetype": "text/x-python",
   "name": "python",
   "nbconvert_exporter": "python",
   "pygments_lexer": "ipython3",
   "version": "3.6.9"
  }
 },
 "nbformat": 4,
 "nbformat_minor": 4
}
