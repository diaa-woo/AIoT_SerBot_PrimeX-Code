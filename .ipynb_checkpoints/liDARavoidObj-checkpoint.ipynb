{
 "cells": [
  {
   "cell_type": "code",
   "execution_count": 3,
   "metadata": {},
   "outputs": [
    {
     "name": "stdout",
     "output_type": "stream",
     "text": [
      "[Errno 13] Permission denied: '/home/soda/Project/python/notebook/ws.log'\n"
     ]
    }
   ],
   "source": [
    "from pop import LiDAR, Pilot\n",
    "\n",
    "lidar = LiDAR.Rplidar()\n",
    "bot = Pilot.SerBot()\n",
    "lidar.connect()\n",
    "lidar.startMotor()\n",
    "\n",
    "bot.setSpeed(99)\n",
    "\n",
    "try:\n",
    "    while True:\n",
    "        no_collision = True\n",
    "    \n",
    "        vectors = lidar.getVectors()\n",
    "        for v in vectors:\n",
    "            degree = v[0]\n",
    "            distance = v[1]\n",
    "\n",
    "            if degree <= 60 or degree >= 300 :\n",
    "                if distance <= 500:\n",
    "                    no_collision = False\n",
    "\n",
    "        if no_collision:\n",
    "            bot.setSpeed(99)\n",
    "            bot.forward()\n",
    "        else:\n",
    "            bot.setSpeed(50)\n",
    "            bot.turnLeft()\n",
    "except KeyboardInterrupt:\n",
    "    bot.setSpeed(0)\n",
    "    bot.stop()"
   ]
  },
  {
   "cell_type": "code",
   "execution_count": null,
   "metadata": {},
   "outputs": [],
   "source": [
    "lidar.stopMotor()"
   ]
  },
  {
   "cell_type": "code",
   "execution_count": null,
   "metadata": {},
   "outputs": [
    {
     "name": "stdout",
     "output_type": "stream",
     "text": [
      "[Errno 13] Permission denied: '/home/soda/Project/python/notebook/ws.log'\n"
     ]
    }
   ],
   "source": [
    "from pop import LiDAR, Pilot\n",
    "\n",
    "lidar = LiDAR.Rplidar()\n",
    "bot = Pilot.SerBot()\n",
    "\n",
    "lidar.connect()\n",
    "lidar.startMotor()\n",
    "\n",
    "bot.setSpeed(25)\n",
    "direction=0\n",
    "\n",
    "while True:\n",
    "    collision = True\n",
    "    \n",
    "    while collision:\n",
    "        collision = False\n",
    "        vectors = lidar.getVectors()\n",
    "        \n",
    "        for v in vectors:\n",
    "            degree = v[0]\n",
    "            distance = v[1]\n",
    "        \n",
    "            left_hand=(direction-60)%360\n",
    "            right_hand=(direction+60)%360\n",
    "            \n",
    "            disc=None\n",
    "            \n",
    "            if left_hand>right_hand:\n",
    "                disc = degree >= left_hand or degree <= right_hand\n",
    "            else:\n",
    "                disc = degree >= left_hand and degree <= right_hand\n",
    "                \n",
    "            if disc:\n",
    "                if distance <= 750:\n",
    "                    collision = True\n",
    "                    bot.stop()\n",
    "                    break\n",
    "    if collision:\n",
    "        direction+=30\n",
    "        direction%=360\n",
    "        \n",
    "    bot.move(direction, 99)"
   ]
  }
 ],
 "metadata": {
  "kernelspec": {
   "display_name": "Python 3",
   "language": "python",
   "name": "python3"
  },
  "language_info": {
   "codemirror_mode": {
    "name": "ipython",
    "version": 3
   },
   "file_extension": ".py",
   "mimetype": "text/x-python",
   "name": "python",
   "nbconvert_exporter": "python",
   "pygments_lexer": "ipython3",
   "version": "3.6.9"
  }
 },
 "nbformat": 4,
 "nbformat_minor": 4
}
