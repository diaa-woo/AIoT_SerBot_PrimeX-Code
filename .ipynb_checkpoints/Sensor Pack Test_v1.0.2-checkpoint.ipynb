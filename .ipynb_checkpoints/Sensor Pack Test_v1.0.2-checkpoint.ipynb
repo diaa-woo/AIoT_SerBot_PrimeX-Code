{
 "cells": [
  {
   "cell_type": "markdown",
   "metadata": {},
   "source": [
    "## 0. Prepare\n",
    "##### All of Sensor Pack Module is testing on External Port (EXP)\n",
    "##### 모든 센서팩의 모듈은 확장 포트에 연결해서 테스트합니다.\n",
    "##### 아래의 코드는 테스트에 필요한 준비를 진행합니다."
   ]
  },
  {
   "cell_type": "code",
   "execution_count": null,
   "metadata": {},
   "outputs": [],
   "source": [
    "from IPython.display import display, Javascript\n",
    "from ipywidgets import widgets\n",
    "import time\n",
    "\n",
    "lab = []"
   ]
  },
  {
   "cell_type": "markdown",
   "metadata": {},
   "source": [
    "##### AIoT Home 의 경우 Jetson Nano 우측 SEL Switch 를 \"EXT Port\" 로 내리고 테스트를 진행합니다. \n",
    "##### 테스트가 완료되면 원래 \"On BOARD\" 로 변경합니다. \n",
    "##### AIoT Home 의 EXP 배치는 AutoCAR 또는 SerBot 과는 약간 다릅니다. 배치는 아래를 참고하세요 \n",
    "##### 보드 좌측 부터 순서 대로 \n",
    "#### [EXP3] [EXP1] [EXP2] [EXP4]"
   ]
  },
  {
   "cell_type": "markdown",
   "metadata": {},
   "source": [
    "---\n",
    "## 1. Flame Sensor\n",
    "##### Connect the Flame Sensor to __EXP 1__\n",
    "##### Flame 모듈은 1번 확장 포트에 연결합니다."
   ]
  },
  {
   "cell_type": "markdown",
   "metadata": {},
   "source": [
    "##### 아래 코드는 2개의 Flame 센서 각각에 불이 감지되면 Fire, 감지되지 않았다면 None이 출력됩니다.\n",
    "##### 불꽃의 위치를 옮기면서 센서가 잘 감지하는지 확인합니다."
   ]
  },
  {
   "cell_type": "code",
   "execution_count": null,
   "metadata": {},
   "outputs": [],
   "source": [
    "from pop import Flame\n",
    "\n",
    "flame1 = Flame(17); lab.append(widgets.Label(value=\"Flame1 : None\"))\n",
    "flame2 = Flame(27); lab.append(widgets.Label(value=\"Flame2 : None\"))\n",
    "\n",
    "display(lab[-2])\n",
    "display(lab[-1])\n",
    "\n",
    "dtime = time.time()\n",
    "while time.time() - dtime < 30:\n",
    "    lab[-2].value = \"Flame1 : %s\" % (\"None\" if flame1.read() \"Fire\")\n",
    "    lab[-1].value = \"Flame2 : %s\" % (\"None\" if flame2.read() \"Fire\")\n",
    "    time.sleep(0.05)"
   ]
  },
  {
   "cell_type": "markdown",
   "metadata": {},
   "source": [
    "##### 아래 코드로 비동기 방식으로 테스트합니다.\n",
    "##### 입력 창에 엔터를 입력할 경우 종료되는 코드입니다."
   ]
  },
  {
   "cell_type": "markdown",
   "metadata": {},
   "source": [
    "##### 아래 코드를 실행시키고 불이 켜졌을 경우 출력되는 숫자가 증가하는지 확인합니다."
   ]
  },
  {
   "cell_type": "code",
   "execution_count": null,
   "metadata": {},
   "outputs": [],
   "source": [
    "from pop import Flame\n",
    "\n",
    "flame = Flame(17)\n",
    "\n",
    "count = 0\n",
    "\n",
    "def onFlame(unuse):\n",
    "    global count\n",
    "    count += 1\n",
    "    print(\"flame = %d\"%(count))\n",
    "    time.sleep(1)\n",
    "\n",
    "flame.setCallback(onFlame, None, Flame.FALLING)\n",
    "input(\"Press <ENTER> key...\\n\")"
   ]
  },
  {
   "cell_type": "markdown",
   "metadata": {},
   "source": [
    "---\n",
    "## 2. PIR Sensor\n",
    "##### Connect the PIR Sensor to __EXP2__\n",
    "##### PIR 모듈은 2번 확장 포트에 연결합니다."
   ]
  },
  {
   "cell_type": "markdown",
   "metadata": {},
   "source": [
    "##### 아래 코드는 인체가 감지되면 \"Detect\"를 감지되지 않았다면 \"Not Detect\"를 출력합니다.\n",
    "##### 손의 움직임에 따라 결과가 잘 나타나는지 확인합니다."
   ]
  },
  {
   "cell_type": "code",
   "execution_count": null,
   "metadata": {},
   "outputs": [],
   "source": [
    "from pop import Pir\n",
    "\n",
    "pir = Pir(24)\n",
    "lab.append(widgets.Label(value=\"PIR : Not detect\"))\n",
    "\n",
    "display(lab[-1])\n",
    "\n",
    "dtime = time.time()\n",
    "while time.time() - dtime < 30:\n",
    "    if pir.read():\n",
    "        lab[-1].value = \"PIR : Detect\"\n",
    "        time.sleep(0.5)\n",
    "    else:\n",
    "        lab[-1].value = \"PIR : Not detect\"\n",
    "        time.sleep(0.1)"
   ]
  },
  {
   "cell_type": "markdown",
   "metadata": {},
   "source": [
    "##### 아래 코드로 비동기 방식으로 테스트합니다.\n",
    "##### 입력 창에 엔터를 입력할 경우 종료되는 코드입니다."
   ]
  },
  {
   "cell_type": "code",
   "execution_count": null,
   "metadata": {},
   "outputs": [],
   "source": [
    "from pop import Pir\n",
    "\n",
    "pir = Pir(24)\n",
    "\n",
    "def onPir(param):\n",
    "    ret = pir.read()\n",
    "    if (ret == True):\n",
    "        print(\"detect...\")\n",
    "        time.sleep(2)\n",
    "    else:\n",
    "        time.sleep(0.1)\n",
    "\n",
    "pir.setCallback(onPir)\n",
    "__ = input(\"Press <Enter> Key...\\n\")"
   ]
  },
  {
   "cell_type": "markdown",
   "metadata": {},
   "source": [
    "---\n",
    "## 3. ECO Sensor\n",
    "##### Connect the ECO Sensor to __EXP1__ or __EXP2__\n",
    "##### ECO 모듈은 I2C를 이용하므로 1번 또는 2번확장 포트에 연결합니다."
   ]
  },
  {
   "cell_type": "markdown",
   "metadata": {},
   "source": [
    "##### 아래 코드를 실행시키고 각 값에 맞는 변화를 줍니다.\n",
    "##### 변화에 따라 값이 잘 변하는지 확인합니다.\n",
    "##### 확인해야할 값은 <a style=\"font-size:1.3em; color:#ff0000;\">온도, 습도, 압력, 빛, 가스</a>입니다."
   ]
  },
  {
   "cell_type": "code",
   "execution_count": null,
   "metadata": {},
   "outputs": [],
   "source": [
    "from pop import Bme680, Light\n",
    "\n",
    "b = Bme680(0x77)\n",
    "l = Light(0x23)\n",
    "\n",
    "lab.append(widgets.Label(value=\"Temperature: 0 [C]\"))\n",
    "lab.append(widgets.Label(value=\"Humidity: 0 [%%]\"))\n",
    "lab.append(widgets.Label(value=\"Pressure: 0 [hPa]\"))\n",
    "lab.append(widgets.Label(value=\"Light: 0 [lx]\"))\n",
    "lab.append(widgets.Label(value=\"Gas: 0 [ohm]\"))\n",
    "\n",
    "display(lab[-5])\n",
    "display(lab[-4])\n",
    "display(lab[-3])\n",
    "display(lab[-2])\n",
    "display(lab[-1])\n",
    "\n",
    "dtime = time.time()\n",
    "while time.time() - dtime < 300:\n",
    "    lab[-5].value = \"Temperature: {:.3f} [C]\".format(b.getTemperature())\n",
    "    lab[-4].value = \"Humidity: {:.3f} [%%]\".format(b.getHumidity())\n",
    "    lab[-3].value = \"Pressure: {:.3f} [hPa]\".format(b.getPressure())\n",
    "    lab[-2].value = \"Light: {:.3f} [lx]\".format(l.getLight())\n",
    "    lab[-1].value = \"Gas: {:.3f} [ohm]\".format(b.getGas())\n",
    "    \n",
    "    time.sleep(0.5)"
   ]
  },
  {
   "cell_type": "markdown",
   "metadata": {},
   "source": [
    "## 4. CO2 Sensor\n",
    "##### Connect the CO2 Sensor to __EXP1__\n",
    "##### CO2 모듈은 1번 확장 포트에 연결합니다."
   ]
  },
  {
   "cell_type": "markdown",
   "metadata": {},
   "source": [
    "##### 아래 코드는 센서값, 센서의 volt값, 계산된 값(공기 중 이산화탄소 농도)를 출력합니다.\n",
    "##### 실행시키고 입으로 바람을 부는 등 이산화탄소량에 변화를 주고 결과를 확인합니다."
   ]
  },
  {
   "cell_type": "code",
   "execution_count": null,
   "metadata": {},
   "outputs": [],
   "source": [
    "from pop import CO2\n",
    "\n",
    "c = CO2(0)\n",
    "\n",
    "lab.append(widgets.Label(value=\"CO2 raw: 0\"))\n",
    "lab.append(widgets.Label(value=\"CO2 volt: 0 [V]\"))\n",
    "lab.append(widgets.Label(value=\"CO2 calculated: 0 [ppm]\"))\n",
    "\n",
    "display(lab[-3])\n",
    "display(lab[-2])\n",
    "display(lab[-1])\n",
    "\n",
    "dtime = time.time()\n",
    "while time.time() - dtime < 30:\n",
    "    lab[-3].value = \"CO2 raw: {}\".format(c.read())\n",
    "    lab[-2].value = \"CO2 volt: {} [V]\".format(c.readVolt())\n",
    "    lab[-1].value = \"CO2 calculated: {} [ppm]\".format(c.calcPPM())\n",
    "    time.sleep(0.1)"
   ]
  },
  {
   "cell_type": "markdown",
   "metadata": {},
   "source": [
    "## 5. Dust Sensor\n",
    "##### Connect the Dust Sensor to __EXP1__ or __EXP2__\n",
    "##### Dust 모듈은 I2C를 이용하므로 1번 또는 2번 확장 포트에 연결합니다."
   ]
  },
  {
   "cell_type": "markdown",
   "metadata": {},
   "source": [
    "##### 아래 코드는 대기 중 각 먼지들의 농도를 출력합니다.\n",
    "##### GRIM 방식과 TSI 방식으로 나뉘며, 값이 완전히 같진 않더라도 추이는 비슷해야 합니다.\n",
    "##### 휴지 등을 이용해 먼지를 발생시키고 값의 변화를 확인합니다."
   ]
  },
  {
   "cell_type": "code",
   "execution_count": null,
   "metadata": {},
   "outputs": [],
   "source": [
    "from pop import Dust\n",
    "\n",
    "dust = Dust()\n",
    "\n",
    "lab.append(widgets.Label(value=\"PM 1.0 GRIM  : %u ㎍/㎥\"))\n",
    "lab.append(widgets.Label(value=\"PM 2.5 GRIM  : %u ㎍/㎥\"))\n",
    "lab.append(widgets.Label(value=\"PM 10  GRIM  : %u ㎍/㎥\"))\n",
    "lab.append(widgets.Label(value=\"PM 1.0 TSI  : %u ㎍/㎥\"))\n",
    "lab.append(widgets.Label(value=\"PM 2.5 TSI  : %u ㎍/㎥\"))\n",
    "lab.append(widgets.Label(value=\"PM 10  TSI  : %u ㎍/㎥\"))\n",
    "\n",
    "display(lab[-6])\n",
    "display(lab[-5])\n",
    "display(lab[-4])\n",
    "display(lab[-3])\n",
    "display(lab[-2])\n",
    "display(lab[-1])\n",
    "\n",
    "dtime = time.time()\n",
    "while time.time() - dtime < 30:\n",
    "    dust.read()\n",
    "    lab[-6].value = \"PM 1.0 GRIM  : {} ㎍/㎥\".format(dust.pm_1p0_grimm)\n",
    "    lab[-5].value = \"PM 2.5 GRIM  : {} ㎍/㎥\".format(dust.pm_2p5_grimm)\n",
    "    lab[-4].value = \"PM 10  GRIM  : {} ㎍/㎥\".format(dust.pm_10_grimm)\n",
    "    lab[-3].value = \"PM 1.0 TSI  : {} ㎍/㎥\".format(dust.pm_1p0_tsi)\n",
    "    lab[-2].value = \"PM 2.5 TSI  : {} ㎍/㎥\".format(dust.pm_2p5_tsi)\n",
    "    lab[-1].value = \"PM 10  TSI  : {} ㎍/㎥\".format(dust.pm_10_tsi)\n",
    "    time.sleep(0.5)"
   ]
  },
  {
   "cell_type": "markdown",
   "metadata": {},
   "source": [
    "## 6. Thermopile Sensor\n",
    "##### Connect the Thermopile Sensor to __EXP4__\n",
    "##### Thermopile 모듈은 4번 확장포트에 연결합니다."
   ]
  },
  {
   "cell_type": "markdown",
   "metadata": {},
   "source": [
    "##### 아래 코드는 비접촉 방식으로 측정한 온도를 출력합니다.\n",
    "##### 실행시키고 온도가 다른 물체를 모듈 앞에 두어 온도의 변화를 확인합니다."
   ]
  },
  {
   "cell_type": "code",
   "execution_count": null,
   "metadata": {},
   "outputs": [],
   "source": [
    "from pop import Thermopile\n",
    "\n",
    "d = Thermopile(7)\n",
    "\n",
    "lab.append(widgets.Label(value=\"Thermopile: 0 [C]\"))\n",
    "display(lab[-1])\n",
    "\n",
    "dtime = time.time()\n",
    "while time.time() - dtime < 30:\n",
    "    lab[-1].value=\"Thermopile: {} [C]\".format(d.read())\n",
    "    time.sleep(0.5)"
   ]
  },
  {
   "cell_type": "markdown",
   "metadata": {},
   "source": [
    "## 7. Micro Wave Sensor\n",
    "##### Connect the Micor Wave Sensor to __EXP1__\n",
    "##### Micro Wave 모듈은 확장 포트 1번에 연결합니다."
   ]
  },
  {
   "cell_type": "markdown",
   "metadata": {},
   "source": [
    "##### 아래 코드는 움직이는 물체에 대한 속도를 측정합니다.\n",
    "##### 손이 움직이는 속도에 따라 결과값이 바뀌는지 확인합니다."
   ]
  },
  {
   "cell_type": "code",
   "execution_count": null,
   "metadata": {},
   "outputs": [],
   "source": [
    "from pop import MicroWave\n",
    "\n",
    "m = MicroWave(17)\n",
    "\n",
    "lab.append(widgets.Label(value=\".\"))\n",
    "display(lab[-1])\n",
    "\n",
    "dtime = time.time()\n",
    "while time.time() - dtime < 30:\n",
    "    lab[-1].value=\"Micro Wave: {} [km/h]\".format(m.read())\n",
    "    time.sleep(0.01)"
   ]
  },
  {
   "cell_type": "markdown",
   "metadata": {},
   "source": [
    "## 8. Peripheral\n",
    "##### Connect the Peripheral module to __EXP3__\n",
    "##### Peripheral 모듈은 3번 확장 포트에 연결합니다."
   ]
  },
  {
   "cell_type": "markdown",
   "metadata": {},
   "source": [
    "Peripheral 모듈에는 피에조 부저, 스위치, LED가 있습니다.\n",
    "<br> 각각의 기능들을 모두 테스트 합니다.\n",
    "\n",
    "\n",
    "아래 코드를 실행시키면 '나비야' 음악이 나오며 **피에조 부저**가 정상적으로 작동하는지 확인할 수 있습니다."
   ]
  },
  {
   "cell_type": "code",
   "execution_count": null,
   "metadata": {},
   "outputs": [],
   "source": [
    "from pop import PiezoBuzzer\n",
    "\n",
    "p = PiezoBuzzer(12)\n",
    "\n",
    "butterfly_scale = [4,4,4, 4,4,4, 4,4,4,4, 4,4,4,  4,4,4,4, 4,4,4, 4,4,4,4, 4,4,4]\n",
    "butterfly_pitch = [8,5,5, 6,3,3, 1,3,5,6, 8,8,8,  8,5,5,5, 6,3,3, 1,5,8,8, 5,5,5]\n",
    "butterfly_duration = [8,8,4,   8,8,4, 8,8,8,8, 8,8,4,  8,8,8,8, 8,8,4, 8,8,8,8, 8,8,4]\n",
    "sheet_butterfly = [butterfly_scale, butterfly_pitch, butterfly_duration]\n",
    "\n",
    "p.play(sheet_butterfly)"
   ]
  },
  {
   "cell_type": "markdown",
   "metadata": {},
   "source": [
    "<br><br>아래 코드를 실행시키면 30초간 **스위치**가 정상적으로 작동하는지 확인할 수 있습니다."
   ]
  },
  {
   "cell_type": "code",
   "execution_count": null,
   "metadata": {},
   "outputs": [],
   "source": [
    "from pop import Input\n",
    "\n",
    "sw1 = Input(16)\n",
    "sw2 = Input(13)\n",
    "\n",
    "SW1=widgets.Label(value=\"SW1 : 0\")\n",
    "SW2=widgets.Label(value=\"SW2 : 0\")\n",
    "display(SW1)\n",
    "display(SW2)\n",
    "\n",
    "dtime = time.time()\n",
    "while time.time()-dtime<30:\n",
    "    SW1.value=\"SW1 : \"+str(sw1.read())\n",
    "    SW2.value=\"SW2 : \"+str(sw2.read())"
   ]
  },
  {
   "cell_type": "markdown",
   "metadata": {},
   "source": [
    "<br><br>아래 코드를 실행시키면 15초간 **LED**가 정상적으로 작동하는지 확인할 수 있습니다."
   ]
  },
  {
   "cell_type": "code",
   "execution_count": null,
   "metadata": {},
   "outputs": [],
   "source": [
    "from pop import PwmController\n",
    "\n",
    "pwm = PwmController(0x57)\n",
    "pwm.init()\n",
    "pwm.setChannel(-1)\n",
    "pwm.setFreq(50)\n",
    "pwm.setDuty(0)\n",
    "\n",
    "for i in range(30):\n",
    "    if i % 2:\n",
    "        pwm.setDuty(0)\n",
    "    else:\n",
    "        pwm.setDuty(100)\n",
    "    time.sleep(0.5)"
   ]
  },
  {
   "cell_type": "markdown",
   "metadata": {},
   "source": [
    "## 9. Pixel Display\n",
    "##### Connect the Pixel Display module to __EXP4__\n",
    "##### Peripheral 모듈은 4번 확장 포트에 연결합니다."
   ]
  },
  {
   "cell_type": "markdown",
   "metadata": {},
   "source": [
    "#### __Pixel Display를 테스트 하는 중 시력 저하가 발생할 수도 있으므로 종이 등으로 한 번 감싼뒤 테스트합니다.__<br>\n",
    "\n",
    "##### 아래 코드는 모든 픽셀을 흰 색으로 채운 뒤, 무지개 색을 출력합니다.\n",
    "##### 주변의 색과 다른 색을 가진 픽셀은 없는지 확인합니다.\n",
    "##### 또한 제어 중 전혀 다른 색이 나오지 않는지 확인합니다."
   ]
  },
  {
   "cell_type": "code",
   "execution_count": null,
   "metadata": {},
   "outputs": [],
   "source": [
    "from pop import PixelDisplay\n",
    "\n",
    "p = PixelDisplay()\n",
    "\n",
    "p.fill((255, 255, 255))\n",
    "time.sleep(1)\n",
    "\n",
    "p.rainbow()"
   ]
  },
  {
   "cell_type": "markdown",
   "metadata": {},
   "source": [
    "##### 아래 코드는 불규칙적으로 <b style=\"font-size:1.2m;\">빨간색, 파란색, 초록색, 흰색</b>으로 채우는 코드입니다.\n",
    "##### 제어 중 전혀 다른 색이 나오지 않는지 확인합니다."
   ]
  },
  {
   "cell_type": "code",
   "execution_count": null,
   "metadata": {},
   "outputs": [],
   "source": [
    "from pop import PixelDisplay\n",
    "\n",
    "p = PixelDisplay(automode=False)\n",
    "\n",
    "for i in range(200):\n",
    "    for y in range(p.height):\n",
    "        for x in range(p.width):\n",
    "            if (i+y) % 3 == 0:\n",
    "                p.setColor(x, y, (255, 30, 30))\n",
    "            elif (i+y) % 5 == 0:\n",
    "                p.setColor(x, y, (30, 255, 30))\n",
    "            elif (i+y) % 7 == 0:\n",
    "                p.setColor(x, y, (30, 30, 255))\n",
    "            else:\n",
    "                p.setColor(x, y, (255, 255, 255))\n",
    "\n",
    "        p.display()\n",
    "        time.sleep(0.005)"
   ]
  },
  {
   "cell_type": "markdown",
   "metadata": {},
   "source": [
    "## 10. IR Receiver (AIoT Home Only)\n",
    "##### Connect the IR Receiver module to __EXP3__\n",
    "##### IR Receiver 모듈은 3번 확장 포트에 연결합니다.\n",
    "##### 아래 코드를 실행하고 IR 코드 초기화 까지 5초정도의 시간이 필요합니다. \n",
    "##### 리모컨을 통해 입력된 코드를 화면에 출력해줍니다. \n",
    "##### 리모컨이 변경될 경우 Unknown Code 로 출력되며 수신된 코드가 출력됩니다. \n",
    "##### ex) Unknown Code = ff321a"
   ]
  },
  {
   "cell_type": "code",
   "execution_count": null,
   "metadata": {},
   "outputs": [],
   "source": [
    "from pop import IRRemote\n",
    "\n",
    "recv_code = 0\n",
    "lab.append(widgets.Label(value=\".\"))\n",
    "display(lab[-1])\n",
    "\n",
    "def remote_callback(code):        \n",
    "    if code == 0xffa25d:\n",
    "        recv_code = \"Power\"\n",
    "    elif code == 0xffe21d:\n",
    "        recv_code = \"MENU\"\n",
    "    elif code == 0xff22dd:\n",
    "        recv_code = \"TEST\"\n",
    "    elif code == 0xff02fd:\n",
    "        recv_code = \"+\"\n",
    "    elif code == 0xffc23d:\n",
    "        recv_code = \"Previous\"\n",
    "    elif code == 0xffe01f:\n",
    "        recv_code = \"Rewind\"\n",
    "    elif code == 0xffa857:\n",
    "        recv_code = \"Play\"\n",
    "    elif code == 0xff906f:\n",
    "        recv_code = \"Fast Forward\"\n",
    "    elif code == 0xff6897:\n",
    "        recv_code = \"0\"\n",
    "    elif code == 0xff9867:\n",
    "        recv_code = \"-\"\n",
    "    elif code == 0xffb04f:\n",
    "        recv_code = \"c\"\n",
    "    elif code == 0xff30cf:\n",
    "        recv_code = \"1\"\n",
    "    elif code == 0xff18e7:\n",
    "        recv_code = \"2\"\n",
    "    elif code == 0xff7a85:\n",
    "        recv_code = \"3\"\n",
    "    elif code == 0xff10ef:\n",
    "        recv_code = \"4\"\n",
    "    elif code == 0xff38c7:\n",
    "        recv_code = \"5\"\n",
    "    elif code == 0xff5aa5:\n",
    "        recv_code = \"6\"\n",
    "    elif code == 0xff42bd:\n",
    "        recv_code = \"7\"\n",
    "    elif code == 0xff4ab5:\n",
    "        recv_code = \"8\"\n",
    "    elif code == 0xff52ad:\n",
    "        recv_code = \"9\"\n",
    "    else:\n",
    "        recv_code=\"Unknown Code = {}\".format(hex(code))\n",
    "    lab[-1].value=\"Recv Code = {}\".format(recv_code)\n",
    "    \n",
    "lab[-1].value=\"IR Receiver Settings...wait plz ...\"\n",
    "ir = IRRemote(callback='DECODE')\n",
    "ir.set_verbose()\n",
    "time.sleep(5)\n",
    "ir.set_verbose(False)\n",
    "ir.set_callback(remote_callback)\n",
    "lab[-1].value=\"IR Receiver Settings Complete\"\n",
    "dtime = time.time()\n",
    "while time.time()-dtime<30:\n",
    "    time.sleep(1)\n",
    "ir.remove_callback()\n",
    "ir.cleanup_pin()"
   ]
  }
 ],
 "metadata": {
  "kernelspec": {
   "display_name": "Python 3",
   "language": "python",
   "name": "python3"
  },
  "language_info": {
   "codemirror_mode": {
    "name": "ipython",
    "version": 3
   },
   "file_extension": ".py",
   "mimetype": "text/x-python",
   "name": "python",
   "nbconvert_exporter": "python",
   "pygments_lexer": "ipython3",
   "version": "3.6.9"
  }
 },
 "nbformat": 4,
 "nbformat_minor": 4
}
