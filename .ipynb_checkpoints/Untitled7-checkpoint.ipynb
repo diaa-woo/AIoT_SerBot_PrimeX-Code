{
 "cells": [
  {
   "cell_type": "code",
   "execution_count": 95,
   "metadata": {},
   "outputs": [],
   "source": [
    "import subprocess as sp\n",
    "import re"
   ]
  },
  {
   "cell_type": "code",
   "execution_count": 151,
   "metadata": {},
   "outputs": [],
   "source": [
    "s=sp.check_output([\"sudo nmcli dev wifi rescan & nmcli dev wifi list\"], shell=True, universal_newlines=True)"
   ]
  },
  {
   "cell_type": "code",
   "execution_count": 152,
   "metadata": {},
   "outputs": [],
   "source": [
    "table=s.split(\"\\n\")[1:-3]"
   ]
  },
  {
   "cell_type": "code",
   "execution_count": 153,
   "metadata": {},
   "outputs": [
    {
     "data": {
      "text/plain": [
       "['        HBE_RSP                          Infra  12    540 Mbit/s  100     ▂▄▆█  WPA2      ',\n",
       " '        HBE_DEV                          Infra  12    270 Mbit/s  100     ▂▄▆█  WPA2      ',\n",
       " '        ±èº´Á¶WIFI                       Infra  1     270 Mbit/s  84      ▂▄▆█  WPA1 WPA2 ',\n",
       " '        olleh_WiFi_BB16                  Infra  9     130 Mbit/s  70      ▂▄▆_  WPA1 WPA2 ',\n",
       " '        HB_3F                            Infra  11    270 Mbit/s  70      ▂▄▆_  WPA2      ',\n",
       " '*       HBE_RSP                          Infra  116   540 Mbit/s  68      ▂▄▆_  WPA2      ',\n",
       " '        HBE_Sales                        Infra  4     270 Mbit/s  65      ▂▄▆_  WPA2      ',\n",
       " '        DIRECT-MiM267x 287x Series       Infra  11    54 Mbit/s   65      ▂▄▆_  WPA2      ',\n",
       " '        KT_GiGA_2G_Wave2_3D39            Infra  3     130 Mbit/s  54      ▂▄__  WPA1 WPA2 ',\n",
       " '        최효민                           Infra  2     270 Mbit/s  52      ▂▄__  WPA2      ',\n",
       " '        U+Net68F3                        Infra  11    130 Mbit/s  52      ▂▄__  WPA2      ',\n",
       " '        DIRECT-A0-HP OfficeJet Pro 8710  Infra  2     65 Mbit/s   45      ▂▄__  WPA2      ',\n",
       " '        HBE_Sales_5G                     Infra  149   270 Mbit/s  44      ▂▄__  WPA2      ',\n",
       " '        iptime                           Infra  11    135 Mbit/s  40      ▂▄__  --        ',\n",
       " '        iptime5G                         Infra  153   270 Mbit/s  15      ▂___  WPA2      ']"
      ]
     },
     "execution_count": 153,
     "metadata": {},
     "output_type": "execute_result"
    }
   ],
   "source": [
    "table"
   ]
  },
  {
   "cell_type": "code",
   "execution_count": 155,
   "metadata": {},
   "outputs": [
    {
     "data": {
      "text/plain": [
       "[['-', 'HBE_RSP', 'Infra', '12', '540 Mbit/s', '100', '▂▄▆█', 'WPA2'],\n",
       " ['-', 'HBE_DEV', 'Infra', '12', '270 Mbit/s', '100', '▂▄▆█', 'WPA2'],\n",
       " ['-', '±èº´Á¶WIFI', 'Infra', '1', '270 Mbit/s', '84', '▂▄▆█', 'WPA1 WPA2'],\n",
       " ['-',\n",
       "  'olleh_WiFi_BB16',\n",
       "  'Infra',\n",
       "  '9',\n",
       "  '130 Mbit/s',\n",
       "  '70',\n",
       "  '▂▄▆_',\n",
       "  'WPA1 WPA2'],\n",
       " ['-', 'HB_3F', 'Infra', '11', '270 Mbit/s', '70', '▂▄▆_', 'WPA2'],\n",
       " ['*', 'HBE_RSP', 'Infra', '116', '540 Mbit/s', '68', '▂▄▆_', 'WPA2'],\n",
       " ['-', 'HBE_Sales', 'Infra', '4', '270 Mbit/s', '65', '▂▄▆_', 'WPA2'],\n",
       " ['-',\n",
       "  'DIRECT-MiM267x 287x Series',\n",
       "  'Infra',\n",
       "  '11',\n",
       "  '54 Mbit/s',\n",
       "  '65',\n",
       "  '▂▄▆_',\n",
       "  'WPA2'],\n",
       " ['-',\n",
       "  'KT_GiGA_2G_Wave2_3D39',\n",
       "  'Infra',\n",
       "  '3',\n",
       "  '130 Mbit/s',\n",
       "  '54',\n",
       "  '▂▄__',\n",
       "  'WPA1 WPA2'],\n",
       " ['-', '최효민', 'Infra', '2', '270 Mbit/s', '52', '▂▄__', 'WPA2'],\n",
       " ['-', 'U+Net68F3', 'Infra', '11', '130 Mbit/s', '52', '▂▄__', 'WPA2'],\n",
       " ['-',\n",
       "  'DIRECT-A0-HP OfficeJet Pro 8710',\n",
       "  'Infra',\n",
       "  '2',\n",
       "  '65 Mbit/s',\n",
       "  '45',\n",
       "  '▂▄__',\n",
       "  'WPA2'],\n",
       " ['-', 'HBE_Sales_5G', 'Infra', '149', '270 Mbit/s', '44', '▂▄__', 'WPA2'],\n",
       " ['-', 'iptime', 'Infra', '11', '135 Mbit/s', '40', '▂▄__', '--'],\n",
       " ['-', 'iptime5G', 'Infra', '153', '270 Mbit/s', '15', '▂___', 'WPA2']]"
      ]
     },
     "execution_count": 155,
     "metadata": {},
     "output_type": "execute_result"
    }
   ],
   "source": [
    "table"
   ]
  },
  {
   "cell_type": "code",
   "execution_count": 154,
   "metadata": {},
   "outputs": [],
   "source": [
    "for i in range(len(table)):\n",
    "    if table[i][0]!=\"*\":table[i]=\"-\"+table[i][1:]\n",
    "    \n",
    "    tmp=[]\n",
    "    cnt=0\n",
    "    tmpstr=\"\"\n",
    "    for j in range(len(table[i])):\n",
    "        if table[i][j]==\" \": \n",
    "            cnt+=1\n",
    "            if cnt>=2 and tmpstr!=\"\":\n",
    "                tmp.append(tmpstr[:-1])\n",
    "                tmpstr=\"\"\n",
    "            elif cnt<2:\n",
    "                tmpstr+=table[i][j]\n",
    "        elif cnt>=2:\n",
    "            cnt=0\n",
    "            tmpstr=\"\"+table[i][j]\n",
    "        elif cnt<2:\n",
    "            cnt=0\n",
    "            tmpstr+=table[i][j]\n",
    "            \n",
    "    if tmpstr!=\"\":\n",
    "        tmp.append(tmpstr[:-1])\n",
    "        tmpstr=\"\"\n",
    "        \n",
    "    table[i]=tmp\n",
    "            "
   ]
  },
  {
   "cell_type": "code",
   "execution_count": 94,
   "metadata": {},
   "outputs": [
    {
     "data": {
      "text/plain": [
       "['IN-USE',\n",
       " 'SSID',\n",
       " '',\n",
       " '',\n",
       " '',\n",
       " '',\n",
       " '',\n",
       " '',\n",
       " '',\n",
       " '',\n",
       " '',\n",
       " '',\n",
       " '',\n",
       " '',\n",
       " '',\n",
       " ' MODE',\n",
       " ' CHAN',\n",
       " 'RATE',\n",
       " '',\n",
       " '',\n",
       " '',\n",
       " 'SIGNAL',\n",
       " 'BARS',\n",
       " 'SECURITY',\n",
       " '']"
      ]
     },
     "execution_count": 94,
     "metadata": {},
     "output_type": "execute_result"
    }
   ],
   "source": [
    "s[0].split(\"  \")"
   ]
  },
  {
   "cell_type": "code",
   "execution_count": 80,
   "metadata": {},
   "outputs": [],
   "source": [
    "arr=[a.split() for a in s][1:-3]"
   ]
  },
  {
   "cell_type": "code",
   "execution_count": 81,
   "metadata": {},
   "outputs": [],
   "source": [
    "for i in range(len(arr)):\n",
    "    if arr[i][0]!=\"*\": \n",
    "        arr[i].insert(0,\"-\")\n",
    "    else:\n",
    "        arr.insert(0,arr.pop(i))\n",
    "        i=0\n",
    "        \n",
    "    arr[i]=[arr[i][0],arr[i][1],arr[i][6],arr[i][8:]]"
   ]
  },
  {
   "cell_type": "code",
   "execution_count": 82,
   "metadata": {},
   "outputs": [
    {
     "data": {
      "text/plain": [
       "[['*', 'HBE_RSP', '70', ['WPA2']],\n",
       " ['-', '±èº´Á¶WIFI', '100', ['WPA1', 'WPA2']],\n",
       " ['-', 'Gompanghee', '100', ['--']],\n",
       " ['-', 'HBE_RSP', '100', ['WPA2']],\n",
       " ['-', 'HBE_DEV', '100', ['WPA2']],\n",
       " ['-', 'HB_3F', '75', ['WPA2']],\n",
       " ['-', 'olleh_WiFi_BB16', '74', ['WPA1', 'WPA2']],\n",
       " ['-', 'HBE_Sales', '67', ['WPA2']],\n",
       " ['-', 'DIRECT-MiM267x', '54', ['62', '▂▄▆_', 'WPA2']],\n",
       " ['-', 'janus_bb_gn100_91017E', '54', ['WPA2']],\n",
       " ['-', '최효민', '52', ['WPA2']],\n",
       " ['-', '--', '52', ['WPA1']],\n",
       " ['-', 'KT_GiGA_2G_Wave2_0573', '44', ['WPA1', 'WPA2']],\n",
       " ['-', 'HBE_Sales_5G', '44', ['WPA2']],\n",
       " ['-', 'DIRECT-A0-HP', '2', ['Mbit/s', '40', '▂▄__', 'WPA2']],\n",
       " ['-', 'iptime5G', '17', ['WPA2']]]"
      ]
     },
     "execution_count": 82,
     "metadata": {},
     "output_type": "execute_result"
    }
   ],
   "source": [
    "arr"
   ]
  },
  {
   "cell_type": "code",
   "execution_count": 24,
   "metadata": {},
   "outputs": [
    {
     "ename": "TypeError",
     "evalue": "list indices must be integers or slices, not list",
     "output_type": "error",
     "traceback": [
      "\u001b[0;31m---------------------------------------------------------------------------\u001b[0m",
      "\u001b[0;31mTypeError\u001b[0m                                 Traceback (most recent call last)",
      "\u001b[0;32m<ipython-input-24-382303a69067>\u001b[0m in \u001b[0;36m<module>\u001b[0;34m\u001b[0m\n\u001b[0;32m----> 1\u001b[0;31m \u001b[0ma\u001b[0m\u001b[0;34m[\u001b[0m\u001b[0;34m[\u001b[0m\u001b[0;36m1\u001b[0m\u001b[0;34m,\u001b[0m\u001b[0;36m3\u001b[0m\u001b[0;34m,\u001b[0m\u001b[0;36m5\u001b[0m\u001b[0;34m]\u001b[0m\u001b[0;34m]\u001b[0m\u001b[0;34m\u001b[0m\u001b[0;34m\u001b[0m\u001b[0m\n\u001b[0m",
      "\u001b[0;31mTypeError\u001b[0m: list indices must be integers or slices, not list"
     ]
    }
   ],
   "source": [
    "a[[1,3,5]]"
   ]
  },
  {
   "cell_type": "code",
   "execution_count": 69,
   "metadata": {},
   "outputs": [
    {
     "ename": "ValueError",
     "evalue": "list.remove(x): x not in list",
     "output_type": "error",
     "traceback": [
      "\u001b[0;31m---------------------------------------------------------------------------\u001b[0m",
      "\u001b[0;31mValueError\u001b[0m                                Traceback (most recent call last)",
      "\u001b[0;32m<ipython-input-69-ae1fd24e9d23>\u001b[0m in \u001b[0;36m<module>\u001b[0;34m\u001b[0m\n\u001b[0;32m----> 1\u001b[0;31m \u001b[0ma\u001b[0m\u001b[0;34m.\u001b[0m\u001b[0mremove\u001b[0m\u001b[0;34m(\u001b[0m\u001b[0;36m0\u001b[0m\u001b[0;34m)\u001b[0m\u001b[0;34m\u001b[0m\u001b[0;34m\u001b[0m\u001b[0m\n\u001b[0m",
      "\u001b[0;31mValueError\u001b[0m: list.remove(x): x not in list"
     ]
    }
   ],
   "source": [
    "a.remove(0)"
   ]
  },
  {
   "cell_type": "code",
   "execution_count": 71,
   "metadata": {},
   "outputs": [
    {
     "data": {
      "text/plain": [
       "4"
      ]
     },
     "execution_count": 71,
     "metadata": {},
     "output_type": "execute_result"
    }
   ],
   "source": [
    "a.pop(3)"
   ]
  },
  {
   "cell_type": "code",
   "execution_count": 72,
   "metadata": {},
   "outputs": [
    {
     "data": {
      "text/plain": [
       "[1, 2, 3, 5]"
      ]
     },
     "execution_count": 72,
     "metadata": {},
     "output_type": "execute_result"
    }
   ],
   "source": [
    "a"
   ]
  }
 ],
 "metadata": {
  "kernelspec": {
   "display_name": "Python 3",
   "language": "python",
   "name": "python3"
  },
  "language_info": {
   "codemirror_mode": {
    "name": "ipython",
    "version": 3
   },
   "file_extension": ".py",
   "mimetype": "text/x-python",
   "name": "python",
   "nbconvert_exporter": "python",
   "pygments_lexer": "ipython3",
   "version": "3.6.9"
  }
 },
 "nbformat": 4,
 "nbformat_minor": 4
}
