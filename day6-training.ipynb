{
 "cells": [
  {
   "cell_type": "code",
   "execution_count": 1,
   "metadata": {},
   "outputs": [],
   "source": [
    "from pop.Pilot import SerBot\n",
    "from pop.Pilot import IMU\n",
    "from pop.AI import Linear_Regression\n",
    "import numpy as np\n",
    "import time"
   ]
  },
  {
   "cell_type": "code",
   "execution_count": 12,
   "metadata": {},
   "outputs": [],
   "source": [
    "bot = SerBot()\n",
    "imu = IMU()\n",
    "linear = Linear_Regression(ckpt_name='ktd')"
   ]
  },
  {
   "cell_type": "code",
   "execution_count": 13,
   "metadata": {},
   "outputs": [],
   "source": [
    "dataset = {'gyro': [], 'steer': []}\n",
    "bot.setSpeed(50)"
   ]
  },
  {
   "cell_type": "code",
   "execution_count": 14,
   "metadata": {},
   "outputs": [
    {
     "name": "stdout",
     "output_type": "stream",
     "text": [
      "{'gyro': 9.419847328244275, 'steer': 1.0}\n",
      "{'gyro': 5.656488549618321, 'steer': 0.8}\n",
      "{'gyro': 3.801526717557252, 'steer': 0.6}\n",
      "{'gyro': 1.282442748091603, 'steer': 0.4}\n",
      "{'gyro': 0.4961832061068702, 'steer': 0.2}\n",
      "{'gyro': 0.33587786259541985, 'steer': 0.0}\n",
      "{'gyro': -0.4198473282442748, 'steer': -0.2}\n",
      "{'gyro': -1.4732824427480915, 'steer': -0.4}\n",
      "{'gyro': -3.8625954198473282, 'steer': -0.6}\n",
      "{'gyro': -5.786259541984733, 'steer': -0.8}\n",
      "{'gyro': -9.946564885496183, 'steer': -1.0}\n",
      "10 step loss: 0.1291337013244629\n",
      "20 step loss: 0.2864019274711609\n",
      "30 step loss: 0.06631353497505188\n",
      "40 step loss: 0.08106759190559387\n",
      "50 step loss: 0.056888531893491745\n",
      "60 step loss: 0.057895682752132416\n",
      "70 step loss: 0.055151667445898056\n",
      "80 step loss: 0.05522562190890312\n",
      "90 step loss: 0.05489432439208031\n",
      "100 step loss: 0.054905328899621964\n",
      "Training is done.\n",
      "Time spent: 1.6 s\n",
      "Training speed: 63.9 step/s\n"
     ]
    }
   ],
   "source": [
    "for n in np.arange(-1.0, 1.0+0.1, 0.2):\n",
    "    n = round(n,1)  # round로 소수점 한자리 수로 잡아줌\n",
    "    bot.steering = n\n",
    "    bot.forward()\n",
    "    time.sleep(0.5)\n",
    "    gy = imu.getGyro('z')\n",
    "    time.sleep(0.5)\n",
    "    bot.backward()\n",
    "    time.sleep(1)\n",
    "    bot.stop()\n",
    "    time.sleep(0.5)\n",
    "    n = -n # Check\n",
    "\n",
    "    dataset['gyro'].append([gy])\n",
    "    dataset['steer'].append([n])\n",
    "\n",
    "    print({'gyro': gy, 'steer': n})\n",
    "\n",
    "linear.X_data = dataset['gyro']\n",
    "linear.Y_data = dataset['steer']\n",
    "\n",
    "linear.train(times=100, print_every=10)"
   ]
  }
 ],
 "metadata": {
  "kernelspec": {
   "display_name": "Python 3",
   "language": "python",
   "name": "python3"
  },
  "language_info": {
   "codemirror_mode": {
    "name": "ipython",
    "version": 3
   },
   "file_extension": ".py",
   "mimetype": "text/x-python",
   "name": "python",
   "nbconvert_exporter": "python",
   "pygments_lexer": "ipython3",
   "version": "3.6.9"
  },
  "orig_nbformat": 4
 },
 "nbformat": 4,
 "nbformat_minor": 2
}
