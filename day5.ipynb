{
 "cells": [
  {
   "cell_type": "code",
   "execution_count": 6,
   "metadata": {},
   "outputs": [],
   "source": [
    "import matplotlib.pyplot as plt"
   ]
  },
  {
   "cell_type": "code",
   "execution_count": 4,
   "metadata": {},
   "outputs": [],
   "source": [
    "x_data = [[173], [171], [162], [187], [157], [169], [177], [159], [182]]    # 키(cm) -> 학습 데이터: x\n",
    "y_data = [[270], [275], [245], [280], [230], [265], [270], [250], [275]]    # 발 크기(mm) -> 레이블(정답): y"
   ]
  },
  {
   "cell_type": "code",
   "execution_count": 8,
   "metadata": {},
   "outputs": [
    {
     "data": {
      "image/png": "[encoded data removed]",
      "text/plain": [
       "<Figure size 432x288 with 1 Axes>"
      ]
     },
     "metadata": {
      "needs_background": "light"
     },
     "output_type": "display_data"
    }
   ],
   "source": [
    "plt.scatter(x_data, y_data)\n",
    "plt.xlabel(\"height(cm)\")\n",
    "plt.ylabel(\"feet(mm)\")\n",
    "plt.show()"
   ]
  },
  {
   "cell_type": "code",
   "execution_count": 11,
   "metadata": {},
   "outputs": [],
   "source": [
    "from pop.AI import Linear_Regression"
   ]
  },
  {
   "cell_type": "code",
   "execution_count": 13,
   "metadata": {},
   "outputs": [],
   "source": [
    "linear = Linear_Regression(ckpt_name=\"height feet\")"
   ]
  },
  {
   "cell_type": "code",
   "execution_count": 14,
   "metadata": {},
   "outputs": [],
   "source": [
    "linear.X_data = x_data\n",
    "linear.Y_data = y_data"
   ]
  },
  {
   "cell_type": "code",
   "execution_count": 17,
   "metadata": {},
   "outputs": [
    {
     "name": "stdout",
     "output_type": "stream",
     "text": [
      "1050 step loss: 49.672119140625\n",
      "1100 step loss: 49.67059326171875\n",
      "1150 step loss: 49.67015838623047\n",
      "1200 step loss: 49.67013931274414\n",
      "1250 step loss: 49.670074462890625\n",
      "1300 step loss: 49.67012023925781\n",
      "1350 step loss: 49.670082092285156\n",
      "1400 step loss: 49.670101165771484\n",
      "1450 step loss: 49.67006301879883\n",
      "1500 step loss: 49.67012023925781\n",
      "Training is done.\n",
      "Time spent: 2.5 s\n",
      "Training speed: 197.9 step/s\n"
     ]
    }
   ],
   "source": [
    "linear.train(500, 50)"
   ]
  },
  {
   "cell_type": "code",
   "execution_count": 22,
   "metadata": {},
   "outputs": [],
   "source": [
    "append_x_data = [[190], [180], [170], [160], [175]]\n",
    "append_y_data = [[296], [263], [259], [242], [260]]"
   ]
  },
  {
   "cell_type": "code",
   "execution_count": 23,
   "metadata": {},
   "outputs": [],
   "source": [
    "new_x = [[159], [172], [201], [148]]"
   ]
  },
  {
   "cell_type": "code",
   "execution_count": 21,
   "metadata": {},
   "outputs": [],
   "source": [
    "linear = Linear_Regression(True, ckpt_name=\"height feet\")   # restore가 True일 시 이미 있는 모델 호출"
   ]
  },
  {
   "cell_type": "code",
   "execution_count": 27,
   "metadata": {},
   "outputs": [],
   "source": [
    "linear.X_data = append_x_data\n",
    "linear.Y_data = append_y_data"
   ]
  },
  {
   "cell_type": "code",
   "execution_count": 28,
   "metadata": {},
   "outputs": [
    {
     "name": "stdout",
     "output_type": "stream",
     "text": [
      "1550 step loss: 40.688743591308594\n",
      "1600 step loss: 37.51151657104492\n",
      "1650 step loss: 37.26605987548828\n",
      "1700 step loss: 37.24979782104492\n",
      "1750 step loss: 37.2487907409668\n",
      "1800 step loss: 37.24864959716797\n",
      "1850 step loss: 37.24851608276367\n",
      "1900 step loss: 37.24850082397461\n",
      "1950 step loss: 37.24830627441406\n",
      "2000 step loss: 37.2481575012207\n",
      "Training is done.\n",
      "Time spent: 3.5 s\n",
      "Training speed: 143.7 step/s\n"
     ]
    }
   ],
   "source": [
    "linear.train(500, 50)"
   ]
  },
  {
   "cell_type": "code",
   "execution_count": 29,
   "metadata": {},
   "outputs": [
    {
     "name": "stdout",
     "output_type": "stream",
     "text": [
      "[[240.21208]\n",
      " [259.6171 ]\n",
      " [302.90524]\n",
      " [223.79245]]\n"
     ]
    }
   ],
   "source": [
    "prediction_y = linear.run(new_x)\n",
    "print(prediction_y)"
   ]
  },
  {
   "cell_type": "code",
   "execution_count": 31,
   "metadata": {},
   "outputs": [
    {
     "data": {
      "image/png": "[encoded data removed]",
      "text/plain": [
       "<Figure size 432x288 with 1 Axes>"
      ]
     },
     "metadata": {
      "needs_background": "light"
     },
     "output_type": "display_data"
    }
   ],
   "source": [
    "plt.xlabel(\"height(cm)\")\n",
    "plt.ylabel(\"feet(mm)\")\n",
    "plt.scatter(x_data, y_data)     # 점 찍기\n",
    "plt.scatter(append_x_data, append_y_data)\n",
    "plt.plot(new_x, prediction_y, color='#f0f000', linestyle='-.', marker='o')  # 선 그리기\n",
    "plt.show()"
   ]
  },
  {
   "cell_type": "code",
   "execution_count": null,
   "metadata": {},
   "outputs": [],
   "source": []
  }
 ],
 "metadata": {
  "kernelspec": {
   "display_name": "Python 3",
   "language": "python",
   "name": "python3"
  },
  "language_info": {
   "codemirror_mode": {
    "name": "ipython",
    "version": 3
   },
   "file_extension": ".py",
   "mimetype": "text/x-python",
   "name": "python",
   "nbconvert_exporter": "python",
   "pygments_lexer": "ipython3",
   "version": "3.6.9"
  },
  "orig_nbformat": 4
 },
 "nbformat": 4,
 "nbformat_minor": 2
}
