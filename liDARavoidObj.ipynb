{
 "cells": [
  {
   "cell_type": "code",
   "execution_count": 1,
   "metadata": {},
   "outputs": [
    {
     "name": "stdout",
     "output_type": "stream",
     "text": [
      "[Errno 13] Permission denied: '/home/soda/Project/python/notebook/ws.log'\n",
      "[Errno 13] Permission denied: '/home/soda/Project/python/notebook/ws.log'\n"
     ]
    }
   ],
   "source": [
    "from pop import LiDAR, Pilot\n",
    "\n",
    "lidar = LiDAR.Rplidar()\n",
    "bot = Pilot.SerBot()\n",
    "lidar.connect()\n",
    "lidar.startMotor()\n",
    "\n",
    "bot.setSpeed(99)\n",
    "\n",
    "try:\n",
    "    while True:\n",
    "        no_collision = True\n",
    "    \n",
    "        vectors = lidar.getVectors()\n",
    "        for v in vectors:\n",
    "            degree = v[0]\n",
    "            distance = v[1]\n",
    "\n",
    "            if degree <= 60 or degree >= 300 :\n",
    "                if distance <= 500:\n",
    "                    no_collision = False\n",
    "\n",
    "        if no_collision:\n",
    "            bot.setSpeed(99)\n",
    "            bot.forward()\n",
    "        else:\n",
    "            bot.setSpeed(50)\n",
    "            bot.turnLeft()\n",
    "except KeyboardInterrupt:\n",
    "    bot.setSpeed(0)\n",
    "    bot.stop()"
   ]
  },
  {
   "cell_type": "code",
   "execution_count": null,
   "metadata": {},
   "outputs": [],
   "source": [
    "lidar.stopMotor()"
   ]
  },
  {
   "cell_type": "code",
   "execution_count": null,
   "metadata": {},
   "outputs": [],
   "source": []
  }
 ],
 "metadata": {
  "kernelspec": {
   "display_name": "Python 3",
   "language": "python",
   "name": "python3"
  },
  "language_info": {
   "codemirror_mode": {
    "name": "ipython",
    "version": 3
   },
   "file_extension": ".py",
   "mimetype": "text/x-python",
   "name": "python",
   "nbconvert_exporter": "python",
   "pygments_lexer": "ipython3",
   "version": "3.6.9"
  }
 },
 "nbformat": 4,
 "nbformat_minor": 4
}
